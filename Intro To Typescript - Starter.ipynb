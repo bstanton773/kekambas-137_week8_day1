{
 "cells": [
  {
   "cell_type": "markdown",
   "id": "1a814339",
   "metadata": {},
   "source": [
    "[Intro To TS](#intro)<br>\n",
    "&emsp;[JS Built-in Types](#built)<br>\n",
    "&emsp;[Declaration](#declare)<br>\n",
    "&emsp;[Exercise #1](#ice1)<br>\n",
    "&emsp;[Implicit Types](#itype)<br>\n",
    "&emsp;[Arrays](#array)<br>\n",
    "&emsp;[Exercise #2](#ice2)<br>\n",
    "&emsp;[Exercise #3](#ice3)<br>\n",
    "&emsp;[Functions](#func)<br>\n",
    "&emsp;&emsp;[Return](#return)<br>\n",
    "&emsp;&emsp;[Exercise #4](#ice4)<br>\n",
    "&emsp;&emsp;[Arrow Functions](#arrow)<br>\n",
    "&emsp;&emsp;[Exercise #5](#ice5)<br>\n",
    "&emsp;&emsp;[Void](#void)<br>\n",
    "&emsp;&emsp;[Exercise #6](#ice6)<br>\n",
    "&emsp;[TS Built-in Types](#tstypes)<br>\n",
    "&emsp;&emsp;[any](#any)<br>\n",
    "&emsp;&emsp;[Exercise #7](#ice7)<br>\n",
    "&emsp;&emsp;[Tuple](#tuple)<br>\n",
    "&emsp;&emsp;[Exercise #8](#ice8)<br>\n",
    "&emsp;&emsp;[Enum](#enum)<br>\n",
    "&emsp;&emsp;[Exercise #9](#ice9)<br>\n",
    "&emsp;&emsp;[Unknown](#unknown)<br>\n",
    "&emsp;&emsp;[Type Guards](#guard)<br>\n",
    "&emsp;&emsp;[Exercise #10](#ice10)<br>\n",
    "&emsp;&emsp;[never](#never)<br>\n",
    "&emsp;[Objects](#obj)<br>\n",
    "&emsp;&emsp;[Exercise #11](#ice11)<br>\n",
    "&emsp;&emsp;[Type Alias](#type)<br>\n",
    "&emsp;&emsp;[Exercise #12](#ice12)<br>\n",
    "&emsp;&emsp;[readonly](#readonly)<br>\n",
    "&emsp;&emsp;[Optional Chaining](#opt)<br>\n",
    "&emsp;&emsp;[Objects with Methods](#objmeth)<br>\n",
    "&emsp;&emsp;[Exercise #13](#ice13)<br>\n",
    "&emsp;&emsp;[Union Types](#union)<br>\n",
    "&emsp;&emsp;[Exercise #14](#ice14)<br>\n",
    "&emsp;[as Keyword](#as)<br>\n",
    "&emsp;[Intersection Types](#intersec)<br>\n",
    "&emsp;[Exercise #15](#ice15)<br>\n",
    "&emsp;[Literal Types](#literal)<br>\n",
    "&emsp;[Exercise #16](#ice16)<br>\n",
    "&emsp;[Non-null assertion operator](#nnao)<br>\n",
    "&emsp;[Homework](#hw)<br>\n"
   ]
  },
  {
   "cell_type": "markdown",
   "id": "99033056",
   "metadata": {},
   "source": [
    "<a id=\"intro\"></a>\n",
    "# Intro To TypeScript"
   ]
  },
  {
   "cell_type": "markdown",
   "id": "69d858f0",
   "metadata": {},
   "source": [
    "TypeScript was developed in 2012 by Microsoft. As of Early 2023 the most current TypeScript version is 4.9, with 5.0 being in beta. (This notebook uses 4.1) TypeScript is what’s called a superset of JavaScript, meaning it encompasses everything that is JavaScript and it includes even more features.\n",
    "\n",
    "Typescript’s main feature is that it adds static typing to Vanilla JS.  JavaScript (and python) are called dynamically type languages, this means the data type of the variables isn't determined until runtime.  This is a recipe for disaster in complex applications.  When working with a dynamically typed language the errors don't show up until you try using your program and something goes wrong.  This makes finding and preventing errors a hassle.  Enter TypeScript, with a statically type language (like C++/Java/C#) the datatypes of the variables are declared and known at compile time (or before you actually run the program.)  That means, when you go to compile your code, you will get errors before ever running the program.  This also helps the itellisense (how VSCode or Jupyter Notebook gives you hints on methods and properties) know what options to give.  This makes the programmers life much easier.\n",
    "\n",
    "When you write a TypeScript (.ts) file you must compile that TS code.  The TS code is read by your computer and it compiles the TS code into new JavaScript files (.js).  This is the compilation step that will give you the type checking errors.  Once it is compiled into JS you can run the JS file like any other JS file.  You will also get a TS config file, in where, you can specify lots of rules that can change how TS checks your TS files. When working in Jupyter Notebook with the TS kernel, you won't see this compilation step however it is happening in the background.\n"
   ]
  },
  {
   "cell_type": "markdown",
   "id": "df8021ee",
   "metadata": {},
   "source": [
    "<a id=\"built\"></a>\n",
    "\n",
    "## Built-in Types"
   ]
  },
  {
   "cell_type": "markdown",
   "id": "ecf83965",
   "metadata": {},
   "source": [
    "JavaScript has seven built-in types: <b>null</b> , <b>undefined</b> , <b>boolean</b> , <b>number</b> , <b>string</b> , <b>object</b> , and <b>symbol</b> \n",
    "\n",
    "You should know these types already, except for symbol (don't worry about symbol)"
   ]
  },
  {
   "cell_type": "markdown",
   "id": "2cee95be",
   "metadata": {},
   "source": [
    "<a id=\"declare\"></a>\n",
    "\n",
    "### Declaring"
   ]
  },
  {
   "cell_type": "markdown",
   "id": "852344b1",
   "metadata": {},
   "source": [
    "When declaring a variable you can set its type explicitly by adding a `:` then the name of the class.\n",
    "\n",
    "<b>Note:</b> The types are lower cased, Number and number and Boolean and boolean are not the same and will cause issues"
   ]
  },
  {
   "cell_type": "code",
   "execution_count": 7,
   "id": "84c87738",
   "metadata": {},
   "outputs": [],
   "source": [
    "let anyType;\n",
    "let typeString:string;\n",
    "let typeNumber:number;\n",
    "let typeBool:boolean;\n",
    "let typeNull:null;\n",
    "let typeUndefined:undefined;"
   ]
  },
  {
   "cell_type": "markdown",
   "id": "26edd04a",
   "metadata": {},
   "source": [
    "Without a type annotation we can reassign `anyType` to any type of variable"
   ]
  },
  {
   "cell_type": "code",
   "execution_count": 8,
   "id": "8fb2d8ed",
   "metadata": {},
   "outputs": [
    {
     "name": "stdout",
     "output_type": "stream",
     "text": [
      "\u001b[33m1\u001b[39m\n",
      "hello\n"
     ]
    }
   ],
   "source": [
    "anyType = 1;\n",
    "console.log(anyType);\n",
    "\n",
    "anyType = 'hello';\n",
    "console.log(anyType)"
   ]
  },
  {
   "cell_type": "code",
   "execution_count": 9,
   "id": "9042f262",
   "metadata": {
    "scrolled": true
   },
   "outputs": [
    {
     "name": "stderr",
     "output_type": "stream",
     "text": [
      "1:1 - Type 'number' is not assignable to type 'string'.\n"
     ]
    }
   ],
   "source": [
    "typeString = 123; //Error"
   ]
  },
  {
   "cell_type": "code",
   "execution_count": 10,
   "id": "4e57aa71",
   "metadata": {},
   "outputs": [
    {
     "name": "stdout",
     "output_type": "stream",
     "text": [
      "Hello this is a string\n"
     ]
    }
   ],
   "source": [
    "typeString = 'Hello this is a string';\n",
    "console.log(typeString);"
   ]
  },
  {
   "cell_type": "code",
   "execution_count": 11,
   "id": "808d8249",
   "metadata": {},
   "outputs": [
    {
     "name": "stderr",
     "output_type": "stream",
     "text": [
      "1:1 - Type 'string' is not assignable to type 'boolean'.\n"
     ]
    }
   ],
   "source": [
    "typeBool = 'hello' //Error"
   ]
  },
  {
   "cell_type": "code",
   "execution_count": 12,
   "id": "2f762215",
   "metadata": {},
   "outputs": [
    {
     "name": "stdout",
     "output_type": "stream",
     "text": [
      "\u001b[33mtrue\u001b[39m\n"
     ]
    }
   ],
   "source": [
    "typeBool = true;\n",
    "console.log(typeBool)"
   ]
  },
  {
   "cell_type": "markdown",
   "id": "e4699b54",
   "metadata": {},
   "source": [
    "<a id=\"ice1\"></a>\n",
    "\n",
    "## In-Class Exercise #1"
   ]
  },
  {
   "cell_type": "markdown",
   "id": "7ae0f3fc",
   "metadata": {},
   "source": [
    "In the cells provided declare 3 variables `iceString` of type string `iceNumber` of type number `iceBool` of type boolean\n",
    "Then on seperate line assign those variables values of an appropriate type"
   ]
  },
  {
   "cell_type": "code",
   "execution_count": 14,
   "id": "864f1ac6",
   "metadata": {},
   "outputs": [
    {
     "name": "stdout",
     "output_type": "stream",
     "text": [
      "This is a string \u001b[33m123\u001b[39m \u001b[33mfalse\u001b[39m\n"
     ]
    }
   ],
   "source": [
    "let iceString:string;\n",
    "let iceNumber:number;\n",
    "let iceBool:boolean;\n",
    "\n",
    "\n",
    "iceString = 'This is a string';\n",
    "iceNumber = 123;\n",
    "iceBool = false;\n",
    "\n",
    "console.log(iceString, iceNumber, iceBool)"
   ]
  },
  {
   "cell_type": "markdown",
   "id": "14929242",
   "metadata": {},
   "source": [
    "<a id=\"itype\"></a>\n",
    "\n",
    "## Implicit Type Declaration"
   ]
  },
  {
   "cell_type": "markdown",
   "id": "a1e67024",
   "metadata": {},
   "source": [
    "When you declare and intialize a variable with TypeScript, it will implicitly add the type declaration for you"
   ]
  },
  {
   "cell_type": "code",
   "execution_count": 15,
   "id": "e8e40339",
   "metadata": {},
   "outputs": [
    {
     "name": "stderr",
     "output_type": "stream",
     "text": [
      "3:1 - Type 'string' is not assignable to type 'number'.\n"
     ]
    }
   ],
   "source": [
    "let myNum = 456;\n",
    "\n",
    "myNum = 'string';"
   ]
  },
  {
   "cell_type": "code",
   "execution_count": 16,
   "id": "00f1d24f",
   "metadata": {},
   "outputs": [
    {
     "name": "stderr",
     "output_type": "stream",
     "text": [
      "3:1 - Type 'boolean' is not assignable to type 'string'.\n"
     ]
    }
   ],
   "source": [
    "let myState = 'Illinois';\n",
    "\n",
    "myState = true;"
   ]
  },
  {
   "cell_type": "code",
   "execution_count": 18,
   "id": "2e7de6bf",
   "metadata": {},
   "outputs": [
    {
     "name": "stdout",
     "output_type": "stream",
     "text": [
      "[ \u001b[32m'Na na na na'\u001b[39m, \u001b[32m'na na na na'\u001b[39m, \u001b[32m'hey hey hey'\u001b[39m, \u001b[32m'goodbye'\u001b[39m ]\n"
     ]
    }
   ],
   "source": [
    "let implicitlyTypedArray = ['Na na na na', 'na na na na', 'hey hey hey', 'goodbye'];\n",
    "console.log(implicitlyTypedArray);"
   ]
  },
  {
   "cell_type": "code",
   "execution_count": 19,
   "id": "65915001",
   "metadata": {
    "scrolled": true
   },
   "outputs": [
    {
     "name": "stderr",
     "output_type": "stream",
     "text": [
      "1:1 - Type 'string' is not assignable to type 'string[]'.\n"
     ]
    }
   ],
   "source": [
    "implicitlyTypedArray = 'something else'"
   ]
  },
  {
   "cell_type": "code",
   "execution_count": 20,
   "id": "86360ec4",
   "metadata": {},
   "outputs": [
    {
     "name": "stderr",
     "output_type": "stream",
     "text": [
      "1:25 - Type 'number' is not assignable to type 'string'.\n",
      "1:29 - Type 'number' is not assignable to type 'string'.\n",
      "1:33 - Type 'number' is not assignable to type 'string'.\n",
      "1:37 - Type 'number' is not assignable to type 'string'.\n"
     ]
    }
   ],
   "source": [
    "implicitlyTypedArray = [10, 20, 30, 40];"
   ]
  },
  {
   "cell_type": "markdown",
   "id": "3a8aa3f9",
   "metadata": {},
   "source": [
    "The above example shows the `implicitlyTypedArray` was not declared to as an array (of strings) but TypeScript implicitly typed it based on the initial state of  `[\"Na na na na\", \"na na na na\",\"hey hey\", \"Goodbye\"]`"
   ]
  },
  {
   "cell_type": "markdown",
   "id": "2c8d8847",
   "metadata": {},
   "source": [
    "<a id=\"array\"></a>\n",
    "\n",
    "## Array typing"
   ]
  },
  {
   "cell_type": "markdown",
   "id": "e5508c4a",
   "metadata": {},
   "source": [
    "Arrays in TS need to be type set to an array, but not just and array, and arrays must declare the datatype of its member elements.  To do this we add the datatype of the elements in the array followed by `[]`.  Typically we only put the same datatype in an array."
   ]
  },
  {
   "cell_type": "code",
   "execution_count": 21,
   "id": "55767d2e",
   "metadata": {},
   "outputs": [],
   "source": [
    "let expTypedArr: string[];"
   ]
  },
  {
   "cell_type": "code",
   "execution_count": 22,
   "id": "628bc89f",
   "metadata": {},
   "outputs": [
    {
     "name": "stderr",
     "output_type": "stream",
     "text": [
      "1:16 - Type 'number' is not assignable to type 'string'.\n",
      "1:19 - Type 'number' is not assignable to type 'string'.\n",
      "1:22 - Type 'number' is not assignable to type 'string'.\n",
      "1:25 - Type 'number' is not assignable to type 'string'.\n"
     ]
    }
   ],
   "source": [
    "expTypedArr = [1, 2, 3, 4]"
   ]
  },
  {
   "cell_type": "code",
   "execution_count": 25,
   "id": "950a8c44",
   "metadata": {},
   "outputs": [
    {
     "name": "stderr",
     "output_type": "stream",
     "text": [
      "1:16 - Type 'number' is not assignable to type 'string'.\n",
      "1:19 - Type 'number' is not assignable to type 'string'.\n",
      "1:22 - Type 'number' is not assignable to type 'string'.\n"
     ]
    }
   ],
   "source": [
    "expTypedArr = [1, 2, 3, 'a', 'b', 'c']"
   ]
  },
  {
   "cell_type": "code",
   "execution_count": 26,
   "id": "25606eeb",
   "metadata": {},
   "outputs": [
    {
     "name": "stdout",
     "output_type": "stream",
     "text": [
      "[ \u001b[32m'we'\u001b[39m, \u001b[32m'will'\u001b[39m, \u001b[32m'we'\u001b[39m, \u001b[32m'will'\u001b[39m, \u001b[32m'rock'\u001b[39m, \u001b[32m'you'\u001b[39m ]\n"
     ]
    }
   ],
   "source": [
    "expTypedArr = ['we', 'will', 'we', 'will', 'rock', 'you']\n",
    "console.log(expTypedArr)"
   ]
  },
  {
   "cell_type": "markdown",
   "id": "ada55e5b",
   "metadata": {},
   "source": [
    "<a id=\"ice2\"></a>\n",
    "\n",
    "## In-Class Exercise #2"
   ]
  },
  {
   "cell_type": "markdown",
   "id": "6ed0adaf",
   "metadata": {},
   "source": [
    "Create an array of nulls using explicit type checking called `arrayOfNulls`"
   ]
  },
  {
   "cell_type": "code",
   "execution_count": 27,
   "id": "df7993e8",
   "metadata": {},
   "outputs": [
    {
     "name": "stdout",
     "output_type": "stream",
     "text": [
      "[ \u001b[1mnull\u001b[22m, \u001b[1mnull\u001b[22m ]\n"
     ]
    }
   ],
   "source": [
    "let arrayOfNulls:null[]\n",
    "\n",
    "arrayOfNulls = [null, null]"
   ]
  },
  {
   "cell_type": "code",
   "execution_count": 28,
   "id": "3cae41a2",
   "metadata": {},
   "outputs": [
    {
     "name": "stdout",
     "output_type": "stream",
     "text": [
      "[ \u001b[1mnull\u001b[22m, \u001b[1mnull\u001b[22m ]\n"
     ]
    }
   ],
   "source": [
    "console.log(arrayOfNulls)"
   ]
  },
  {
   "cell_type": "markdown",
   "id": "59738550",
   "metadata": {},
   "source": [
    "#### Multiple Datatypes in Array"
   ]
  },
  {
   "cell_type": "markdown",
   "id": "1c8b011c",
   "metadata": {},
   "source": [
    "We usually avoid putting multiple data types in an array if there is more than 2 elements because it gets hard to read and use.  If we want to do this we put inside bracket we state the datatype for each index of the array like so\n",
    "\n",
    "`let myVar:[datatypeOfIndex0, datatypeOfIndex1, datatypeOfIndex2, datatypeOfIndex3, ..etc]`"
   ]
  },
  {
   "cell_type": "code",
   "execution_count": 29,
   "id": "d752818b",
   "metadata": {},
   "outputs": [],
   "source": [
    "let multiTypedArr: [number, string, boolean, null];"
   ]
  },
  {
   "cell_type": "code",
   "execution_count": 30,
   "id": "659f4eaf",
   "metadata": {},
   "outputs": [
    {
     "name": "stdout",
     "output_type": "stream",
     "text": [
      "[ \u001b[33m44\u001b[39m, \u001b[32m'purple'\u001b[39m, \u001b[33mtrue\u001b[39m, \u001b[1mnull\u001b[22m ]\n"
     ]
    }
   ],
   "source": [
    "multiTypedArr = [44, 'purple', true, null]\n",
    "console.log(multiTypedArr)"
   ]
  },
  {
   "cell_type": "markdown",
   "id": "bba79970",
   "metadata": {},
   "source": [
    "The Order of the elements is critical"
   ]
  },
  {
   "cell_type": "code",
   "execution_count": 31,
   "id": "63a6cbce",
   "metadata": {
    "scrolled": true
   },
   "outputs": [
    {
     "name": "stderr",
     "output_type": "stream",
     "text": [
      "1:24 - Type 'boolean' is not assignable to type 'string'.\n",
      "1:30 - Type 'number' is not assignable to type 'boolean'.\n",
      "1:34 - Type 'string' is not assignable to type 'null'.\n"
     ]
    }
   ],
   "source": [
    "multiTypedArr = [null, true, 44, 'purple']"
   ]
  },
  {
   "cell_type": "markdown",
   "id": "ac4fb2d4",
   "metadata": {},
   "source": [
    "#### Multiple elements of unknown Length"
   ]
  },
  {
   "cell_type": "markdown",
   "id": "7886ecbb",
   "metadata": {},
   "source": [
    "What if the array's first element is a string and then we have an unknown about of numbers?\n",
    "\n",
    "We will use the spread operator to say the second member of the array is an unpacked number array"
   ]
  },
  {
   "cell_type": "code",
   "execution_count": 32,
   "id": "c37b74ae",
   "metadata": {},
   "outputs": [],
   "source": [
    "let unknownLengthArr: [string, ...number[]];"
   ]
  },
  {
   "cell_type": "code",
   "execution_count": 33,
   "id": "a1b97107",
   "metadata": {
    "scrolled": true
   },
   "outputs": [
    {
     "name": "stdout",
     "output_type": "stream",
     "text": [
      "[ \u001b[32m'Hello'\u001b[39m, \u001b[33m1\u001b[39m, \u001b[33m2\u001b[39m, \u001b[33m3\u001b[39m, \u001b[33m4\u001b[39m, \u001b[33m5\u001b[39m, \u001b[33m6\u001b[39m, \u001b[33m7\u001b[39m ]\n"
     ]
    }
   ],
   "source": [
    "unknownLengthArr = ['Hello', 1, 2, 3, 4, 5, 6, 7]"
   ]
  },
  {
   "cell_type": "markdown",
   "id": "d0f22cb4",
   "metadata": {},
   "source": [
    "<strong>Note:</strong> This style means there could also be nothing in our unpacked number array, so the second index becomes optional"
   ]
  },
  {
   "cell_type": "code",
   "execution_count": 34,
   "id": "d424bc5a",
   "metadata": {
    "scrolled": true
   },
   "outputs": [
    {
     "name": "stdout",
     "output_type": "stream",
     "text": [
      "[ \u001b[32m'Hola'\u001b[39m ]\n"
     ]
    }
   ],
   "source": [
    "unknownLengthArr = ['Hola'];\n",
    "console.log(unknownLengthArr);"
   ]
  },
  {
   "cell_type": "code",
   "execution_count": 37,
   "id": "ef75b7ca",
   "metadata": {},
   "outputs": [
    {
     "name": "stderr",
     "output_type": "stream",
     "text": [
      "1:21 - Type 'number' is not assignable to type 'string'.\n"
     ]
    }
   ],
   "source": [
    "unknownLengthArr = [1, 2, 3, 'Brian']"
   ]
  },
  {
   "cell_type": "markdown",
   "id": "10d54c77",
   "metadata": {},
   "source": [
    "<a id=\"ice3\"></a>\n",
    "\n",
    "## In-Class Exercise #3"
   ]
  },
  {
   "cell_type": "markdown",
   "id": "89ed8797",
   "metadata": {},
   "source": [
    "Create an array that starts with one string and then can hold any number of booleans and name it `stringBoolsArray` and assign it some values"
   ]
  },
  {
   "cell_type": "code",
   "execution_count": 38,
   "id": "fc3ae1df",
   "metadata": {},
   "outputs": [
    {
     "name": "stdout",
     "output_type": "stream",
     "text": [
      "[\n",
      "  \u001b[32m'test'\u001b[39m, \u001b[33mtrue\u001b[39m,\n",
      "  \u001b[33mtrue\u001b[39m,   \u001b[33mfalse\u001b[39m,\n",
      "  \u001b[33mfalse\u001b[39m,  \u001b[33mtrue\u001b[39m,\n",
      "  \u001b[33mfalse\u001b[39m\n",
      "]\n"
     ]
    }
   ],
   "source": [
    "let stringBoolsArray: [string, ...boolean[]]\n",
    "\n",
    "stringBoolsArray = ['test', true, true, false, false, true, false]"
   ]
  },
  {
   "cell_type": "code",
   "execution_count": 39,
   "id": "2f32b44b",
   "metadata": {},
   "outputs": [],
   "source": [
    "let stringBoolsArray2: [string, ...boolean[]] = ['test', false, true, false, false, true]\n",
    "console.log()"
   ]
  },
  {
   "cell_type": "markdown",
   "id": "cba4150c",
   "metadata": {},
   "source": [
    "<a id=\"func\"></a>\n",
    "\n",
    "## TS and Intellisense, and Functions"
   ]
  },
  {
   "cell_type": "markdown",
   "id": "6acc3d76",
   "metadata": {},
   "source": [
    "Typescript helps you with itellisense.  In Jupyter notebook you can press tab after writing a dot to see the available methods.  This only works if the itellisense can determine what the datatype of the variable is.  Typescript introduces static typing to JS, so when using proper TS techniques the itellisense will know the type of data being past.\n",
    "\n",
    "Consider the examples below.  The first example is without static type checking.  note when you type `name.` and press `tab` you get no suggestions; This tells you that the compiler does not know the type of the name variable.\n",
    "\n",
    "Looking at the second example we annotate the name parameter to be of type string, now when you press tab after the `name.` you will see a list of availible string methods and properties.\n"
   ]
  },
  {
   "cell_type": "code",
   "execution_count": 40,
   "id": "730796c7",
   "metadata": {},
   "outputs": [],
   "source": [
    "function nameLower(name){\n",
    "    let nameOutput = name.toLowerCase()\n",
    "    return nameOutput;\n",
    "}\n"
   ]
  },
  {
   "cell_type": "code",
   "execution_count": 41,
   "id": "2c64ee49",
   "metadata": {},
   "outputs": [],
   "source": [
    "function nameLower2(name:string){\n",
    "    let nameOutput = name.toLowerCase()\n",
    "    return nameOutput\n",
    "}"
   ]
  },
  {
   "cell_type": "markdown",
   "id": "fee91c7d",
   "metadata": {},
   "source": [
    "<a id=\"return\"></a>\n",
    "\n",
    "## Declaring a Return Type"
   ]
  },
  {
   "cell_type": "markdown",
   "id": "681133b4",
   "metadata": {},
   "source": [
    "Now lets use the returned string with and without return type annonations."
   ]
  },
  {
   "cell_type": "markdown",
   "id": "9477198d",
   "metadata": {},
   "source": [
    "Using the same example we will see that the compiler knows the data type of name, once again we can easily verify this my trying the tab key."
   ]
  },
  {
   "cell_type": "code",
   "execution_count": 42,
   "id": "2da7c6b1",
   "metadata": {},
   "outputs": [
    {
     "name": "stdout",
     "output_type": "stream",
     "text": [
      "\u001b[33m5\u001b[39m\n"
     ]
    }
   ],
   "source": [
    "function nameUpper(name:string){\n",
    "    let nameOutput = name.toUpperCase();\n",
    "    return nameOutput;\n",
    "}\n",
    "\n",
    "\n",
    "nameUpper('brian').length"
   ]
  },
  {
   "cell_type": "markdown",
   "id": "7635d908",
   "metadata": {},
   "source": [
    "The compiler knows this is a string because we passed in a string and didn't do anything that may change its data type"
   ]
  },
  {
   "cell_type": "markdown",
   "id": "cb1280d2",
   "metadata": {},
   "source": [
    "Let's try to confuse the compilier by adding an integer to our string.  This will cause the compiler not to know what the data type of our return is, once again we can test by press tab after the dot"
   ]
  },
  {
   "cell_type": "code",
   "execution_count": 43,
   "id": "8f423783",
   "metadata": {},
   "outputs": [
    {
     "name": "stdout",
     "output_type": "stream",
     "text": [
      "\u001b[33m6\u001b[39m\n"
     ]
    }
   ],
   "source": [
    "function nameUpper2(name){\n",
    "    return name + 2\n",
    "}\n",
    "\n",
    "\n",
    "nameUpper2('brian').length"
   ]
  },
  {
   "cell_type": "markdown",
   "id": "754274c7",
   "metadata": {},
   "source": [
    "#### Explicit Return Type"
   ]
  },
  {
   "cell_type": "markdown",
   "id": "154bf2b0",
   "metadata": {},
   "source": [
    "Lets annotate the return type of this function, we will see now the compiler and our itellisense knows the return of the function is a string\n",
    "\n",
    "To annotate a return type on a regular function it looks like:\n",
    "```\n",
    "function funcName(params):ReturnType{}\n",
    "```"
   ]
  },
  {
   "cell_type": "code",
   "execution_count": 44,
   "id": "44330f07",
   "metadata": {},
   "outputs": [
    {
     "name": "stdout",
     "output_type": "stream",
     "text": [
      "SaRaH\n"
     ]
    }
   ],
   "source": [
    "function nameUpper(name:string):string{\n",
    "    let nameOutput = name.toUpperCase();\n",
    "    return nameOutput;\n",
    "}\n",
    "\n",
    "\n",
    "nameUpper('sarah').replaceAll('A', 'a')"
   ]
  },
  {
   "cell_type": "code",
   "execution_count": 50,
   "id": "c23a3326",
   "metadata": {},
   "outputs": [
    {
     "name": "stdout",
     "output_type": "stream",
     "text": [
      "[ \u001b[32m'Brian'\u001b[39m, \u001b[32m'Stanton'\u001b[39m ]\n"
     ]
    }
   ],
   "source": [
    "function logInfo(firstName:string, lastName:string, age:number):string[]{\n",
    "    if (age >= 25){\n",
    "        return [firstName, lastName]\n",
    "    } else {\n",
    "        return []\n",
    "    }\n",
    "}\n",
    "\n",
    "\n",
    "for (let val of logInfo('Brian', 'Stanton', 33)){\n",
    "    console.log(val)\n",
    "}"
   ]
  },
  {
   "cell_type": "markdown",
   "id": "880028a5",
   "metadata": {},
   "source": [
    "<a id=\"ice4\"></a>\n",
    "\n",
    "## In-Class Exercise #4"
   ]
  },
  {
   "cell_type": "markdown",
   "id": "55b41583",
   "metadata": {},
   "source": [
    "Create a regular function that takes in two numbers and returns a string that says.\n",
    "```[firstnumber] plus [secondNumber] equals [FirstNumber plus SecondNumber]```\n",
    "\n",
    "Name the function `iceAddition`\n",
    "\n",
    "if we run `iceAddition(2,5)`\n",
    "\n",
    "the output should be :\n",
    "\n",
    "```\n",
    "\"2 plus 5 equals 7\"\n",
    "```\n",
    "\n",
    "Use Explicit type checking on the parameters and return type"
   ]
  },
  {
   "cell_type": "code",
   "execution_count": 51,
   "id": "de836e1e",
   "metadata": {},
   "outputs": [],
   "source": [
    "\n",
    "function iceAddition(num1:number, num2:number):string{\n",
    "    return `${num1} plus ${num2} equals ${num1 + num2}`\n",
    "}\n"
   ]
  },
  {
   "cell_type": "code",
   "execution_count": 53,
   "id": "070ac95c",
   "metadata": {},
   "outputs": [
    {
     "name": "stdout",
     "output_type": "stream",
     "text": [
      "5 PLUS 7 EQUALS 12\n"
     ]
    }
   ],
   "source": [
    "iceAddition(5, 7).toUpperCase()"
   ]
  },
  {
   "cell_type": "code",
   "execution_count": 58,
   "id": "81357048",
   "metadata": {},
   "outputs": [
    {
     "name": "stderr",
     "output_type": "stream",
     "text": [
      "1:13 - Argument of type 'string' is not assignable to parameter of type 'number'.\n"
     ]
    }
   ],
   "source": [
    "iceAddition('hello', 'goodbye')"
   ]
  },
  {
   "cell_type": "code",
   "execution_count": 56,
   "id": "dd402f72",
   "metadata": {},
   "outputs": [
    {
     "name": "stdout",
     "output_type": "stream",
     "text": [
      "10 minus 5 equals 5\n"
     ]
    }
   ],
   "source": [
    "function iceSubtraction(num1, num2){\n",
    "    return `${num1} minus ${num2} equals ${num1 - num2}`\n",
    "}\n",
    "\n",
    "\n",
    "iceSubtraction(10, 5)"
   ]
  },
  {
   "cell_type": "code",
   "execution_count": 57,
   "id": "eed9fefa",
   "metadata": {},
   "outputs": [
    {
     "name": "stdout",
     "output_type": "stream",
     "text": [
      "hello minus goodbye equals NaN\n"
     ]
    }
   ],
   "source": [
    "iceSubtraction('hello', 'goodbye')"
   ]
  },
  {
   "cell_type": "markdown",
   "id": "77a2626d",
   "metadata": {},
   "source": [
    "<a id=\"arrow\"></a>\n",
    "\n",
    "## Arrow Functions"
   ]
  },
  {
   "cell_type": "markdown",
   "id": "51517966",
   "metadata": {},
   "source": [
    "To annotate a return type on an arrow function it looks like:\n",
    "```\n",
    "const funcName=(params):ReturnType=>{}\n",
    "```"
   ]
  },
  {
   "cell_type": "code",
   "execution_count": 60,
   "id": "708cb933",
   "metadata": {
    "scrolled": false
   },
   "outputs": [
    {
     "name": "stdout",
     "output_type": "stream",
     "text": [
      "Hello BRIAN\n"
     ]
    }
   ],
   "source": [
    "const sayHello = (name:string):string => \"Hello \" + name.toUpperCase()\n",
    "\n",
    "sayHello('brian')"
   ]
  },
  {
   "cell_type": "code",
   "execution_count": null,
   "id": "3e3b3b02",
   "metadata": {},
   "outputs": [],
   "source": [
    "sayHello('sarah')."
   ]
  },
  {
   "cell_type": "markdown",
   "id": "65f8eaf8",
   "metadata": {},
   "source": [
    "<a id=\"ice5\"></a>\n",
    "\n",
    "## In-Class Exercise #5"
   ]
  },
  {
   "cell_type": "markdown",
   "id": "d9a493fc",
   "metadata": {},
   "source": [
    "Create an Arrow function that takes in two numbers and returns a string that says.\n",
    "```[firstnumber] plus [secondNumber] equals [FirstNumber plus SecondNumber]```\n",
    "\n",
    "Name the function `iceAdditionArrow`\n",
    "\n",
    "if we run `iceAdditionArrow(2,5)`\n",
    "\n",
    "the output should be :\n",
    "\n",
    "```\n",
    "\"2 plus 5 equals 7\"\n",
    "```\n",
    "\n",
    "Use Explicit type checking on the parameters and return type"
   ]
  },
  {
   "cell_type": "code",
   "execution_count": null,
   "id": "96c35d0e",
   "metadata": {},
   "outputs": [],
   "source": [
    "\n",
    "function iceAddition(num1:number, num2:number):string{\n",
    "    return `${num1} plus ${num2} equals ${num1 + num2}`\n",
    "}\n",
    "\n"
   ]
  },
  {
   "cell_type": "code",
   "execution_count": 61,
   "id": "b68b96a3",
   "metadata": {},
   "outputs": [
    {
     "name": "stdout",
     "output_type": "stream",
     "text": [
      "2 plus 5 equals 7\n"
     ]
    }
   ],
   "source": [
    "const iceAdditionArrow = (num1:number, num2:number):string => {\n",
    "    return `${num1} plus ${num2} equals ${num1 + num2}`\n",
    "}\n",
    "\n",
    "\n",
    "iceAdditionArrow(2, 5)"
   ]
  },
  {
   "cell_type": "markdown",
   "id": "1f52b380",
   "metadata": {},
   "source": [
    "<a id=\"void\"></a>\n",
    "\n",
    "### Void Type"
   ]
  },
  {
   "cell_type": "markdown",
   "id": "c8179f7c",
   "metadata": {},
   "source": [
    "Often our function return nothing, for this we can use the void type.  The term void to represent function without returns is ubiquitous in all languages.\n",
    "\n",
    "Note: returning `null` or `undefined` statisfies void "
   ]
  },
  {
   "cell_type": "code",
   "execution_count": 62,
   "id": "080efc5e",
   "metadata": {},
   "outputs": [
    {
     "name": "stdout",
     "output_type": "stream",
     "text": [
      "Hello Babe Ruth\n"
     ]
    }
   ],
   "source": [
    "function sayHi(name:string):void{\n",
    "    console.log('Hello ' + name);\n",
    "}\n",
    "\n",
    "sayHi('Babe Ruth')"
   ]
  },
  {
   "cell_type": "code",
   "execution_count": 63,
   "id": "2916ea41",
   "metadata": {},
   "outputs": [
    {
     "name": "stdout",
     "output_type": "stream",
     "text": [
      "Hello Magic Johnson\n",
      "\u001b[90mundefined\u001b[39m\n"
     ]
    }
   ],
   "source": [
    "let sayHiReturn = sayHi('Magic Johnson')\n",
    "console.log(sayHiReturn)"
   ]
  },
  {
   "cell_type": "code",
   "execution_count": 64,
   "id": "4b652b58",
   "metadata": {
    "scrolled": true
   },
   "outputs": [
    {
     "name": "stderr",
     "output_type": "stream",
     "text": [
      "2:5 - Type 'string' is not assignable to type 'void'.\n"
     ]
    }
   ],
   "source": [
    "function sayHola(name:string):void{\n",
    "    return 'Hola ' + name\n",
    "}"
   ]
  },
  {
   "cell_type": "markdown",
   "id": "5378bd0e",
   "metadata": {},
   "source": [
    "<a id=\"ice6\"></a>\n",
    "\n",
    "## In-Class Exercise #6"
   ]
  },
  {
   "cell_type": "markdown",
   "id": "ed8466f0",
   "metadata": {},
   "source": [
    "Create an arrow function that is named `iceVoid` and have that function print:\n",
    "\n",
    "`If I have a void I have nothing`\n",
    "\n",
    "Be sure to explicity type the function's return"
   ]
  },
  {
   "cell_type": "code",
   "execution_count": 66,
   "id": "e3119b22",
   "metadata": {},
   "outputs": [],
   "source": [
    "const iceVoid = ():void => {\n",
    "    console.log(\"If I have a void I have nothing\")\n",
    "}\n"
   ]
  },
  {
   "cell_type": "code",
   "execution_count": 67,
   "id": "2bb4be7a",
   "metadata": {},
   "outputs": [
    {
     "name": "stdout",
     "output_type": "stream",
     "text": [
      "If I have a void I have nothing\n"
     ]
    }
   ],
   "source": [
    "iceVoid()"
   ]
  },
  {
   "cell_type": "code",
   "execution_count": 69,
   "id": "b342c273",
   "metadata": {},
   "outputs": [
    {
     "name": "stdout",
     "output_type": "stream",
     "text": [
      "If I have a void I have nothing\n"
     ]
    }
   ],
   "source": [
    "let theReturn = iceVoid()"
   ]
  },
  {
   "cell_type": "code",
   "execution_count": 70,
   "id": "d318f380",
   "metadata": {},
   "outputs": [
    {
     "name": "stdout",
     "output_type": "stream",
     "text": [
      "\u001b[90mundefined\u001b[39m\n"
     ]
    }
   ],
   "source": [
    "console.log(theReturn)"
   ]
  },
  {
   "cell_type": "markdown",
   "id": "bac8ca87",
   "metadata": {},
   "source": [
    "<a id=\"tstypes\"></a>\n",
    "\n",
    "## TypeScript Built in Types"
   ]
  },
  {
   "cell_type": "markdown",
   "id": "8e366edd",
   "metadata": {},
   "source": [
    "We have already mentioned JavaScript has seven built-in types: <b>null</b> , <b>undefined</b> , <b>boolean</b> , <b>number</b> , <b>string</b> , <b>object</b> , and <b>symbol</b> \n",
    "\n",
    "TypeScript adds to these types with: <b>unknown</b>, <b>any</b>, <b>tuple</b>, <b>enum</b>,<b> never</b> and more.\n",
    "\n",
    "Reference: [https://www.typescriptlang.org/docs/handbook/2/everyday-types.html]('https://www.typescriptlang.org/docs/handbook/2/everyday-types.html')"
   ]
  },
  {
   "cell_type": "markdown",
   "id": "df11c56e",
   "metadata": {},
   "source": [
    "<a id=\"any\"></a>\n",
    "\n",
    "### any type"
   ]
  },
  {
   "cell_type": "markdown",
   "id": "cab48c02",
   "metadata": {},
   "source": [
    "The any type means that the data can belong to any datatype.  Be very careful when using this datatype; it should be avoided at all costs.  Using the any type, may make your code easier to write, but you will lose all benefits of TypeScript.\n",
    "\n",
    "When you don't explicitly declare a type to a variable TS will implicitly assign it to any."
   ]
  },
  {
   "cell_type": "code",
   "execution_count": 71,
   "id": "2305f897",
   "metadata": {
    "scrolled": true
   },
   "outputs": [
    {
     "name": "stdout",
     "output_type": "stream",
     "text": [
      "\u001b[33mtrue\u001b[39m\n"
     ]
    }
   ],
   "source": [
    "let typeAny: any;\n",
    "typeAny = 'hello';\n",
    "typeAny = 123;\n",
    "typeAny = [1, 2, 3];\n",
    "typeAny = true\n"
   ]
  },
  {
   "cell_type": "code",
   "execution_count": 72,
   "id": "deb37204",
   "metadata": {},
   "outputs": [
    {
     "name": "stdout",
     "output_type": "stream",
     "text": [
      "\u001b[33mfalse\u001b[39m\n"
     ]
    }
   ],
   "source": [
    "let implicitAny;\n",
    "implicitAny = 'hello';\n",
    "implicitAny = 123;\n",
    "implicitAny = [1, 2, 3];\n",
    "implicitAny = false;\n"
   ]
  },
  {
   "cell_type": "code",
   "execution_count": 73,
   "id": "6c2dcfe1",
   "metadata": {},
   "outputs": [
    {
     "name": "stdout",
     "output_type": "stream",
     "text": [
      "hello10\n"
     ]
    }
   ],
   "source": [
    "function addTen(value:any){\n",
    "    return value + 10\n",
    "}\n",
    "\n",
    "\n",
    "addTen(100);\n",
    "addTen('hello')"
   ]
  },
  {
   "cell_type": "markdown",
   "id": "c2e627f4",
   "metadata": {},
   "source": [
    "<a id=\"ice7\"></a>\n",
    "\n",
    "## In-Class Exercise #7"
   ]
  },
  {
   "cell_type": "markdown",
   "id": "e5707f53",
   "metadata": {},
   "source": [
    "In the cell below write `I will not use the any type unless absolutely necessary`"
   ]
  },
  {
   "cell_type": "markdown",
   "id": "ebbf55b9",
   "metadata": {},
   "source": [
    "I will not use the any type unless absolutely necessary"
   ]
  },
  {
   "cell_type": "markdown",
   "id": "99d1b767",
   "metadata": {},
   "source": [
    "<a id=\"tuples\"></a>\n",
    "\n",
    "### Tuples"
   ]
  },
  {
   "cell_type": "markdown",
   "id": "f88578c3",
   "metadata": {},
   "source": [
    "A Tuple is a fixed length array where each element has a particular type.\n",
    "These are generally used for arrays with only 2 pieces of information, as they quickly become hard to read and manage."
   ]
  },
  {
   "cell_type": "code",
   "execution_count": 74,
   "id": "360cd15d",
   "metadata": {},
   "outputs": [
    {
     "name": "stdout",
     "output_type": "stream",
     "text": [
      "[ \u001b[33m1\u001b[39m, \u001b[32m'Nike Shoes'\u001b[39m ]\n"
     ]
    }
   ],
   "source": [
    "let product1: [number, string];\n",
    "\n",
    "product1 = [1, 'Nike Shoes']"
   ]
  },
  {
   "cell_type": "code",
   "execution_count": 75,
   "id": "788abb8c",
   "metadata": {},
   "outputs": [
    {
     "name": "stderr",
     "output_type": "stream",
     "text": [
      "2:13 - Type 'string' is not assignable to type 'number'.\n",
      "2:27 - Type 'number' is not assignable to type 'string'.\n"
     ]
    }
   ],
   "source": [
    "//Error\n",
    "product1 = ['Nike Shoes', 1]"
   ]
  },
  {
   "cell_type": "code",
   "execution_count": 76,
   "id": "8dccef85",
   "metadata": {
    "scrolled": true
   },
   "outputs": [
    {
     "name": "stderr",
     "output_type": "stream",
     "text": [
      "2:1 - Type '[number, string, string]' is not assignable to type '[number, string]'.\n",
      "2:1 - Source has 3 element(s) but target allows only 2.\n"
     ]
    }
   ],
   "source": [
    "//Error\n",
    "product1 = [1, 'Nike Shoes', 'Blue']"
   ]
  },
  {
   "cell_type": "markdown",
   "id": "9128f768",
   "metadata": {},
   "source": [
    "### ⚠️WARNING⚠️"
   ]
  },
  {
   "cell_type": "markdown",
   "id": "ff126ff1",
   "metadata": {},
   "source": [
    "TypeScript isn't perfect when working with tuples and the push method will work, but this goes against the TS principlas and should never be done."
   ]
  },
  {
   "cell_type": "code",
   "execution_count": 78,
   "id": "9eb96ff9",
   "metadata": {
    "scrolled": false
   },
   "outputs": [
    {
     "name": "stdout",
     "output_type": "stream",
     "text": [
      "[ \u001b[33m1\u001b[39m, \u001b[32m'Nike Shoes'\u001b[39m ]\n",
      "[ \u001b[33m1\u001b[39m, \u001b[32m'Nike Shoes'\u001b[39m, \u001b[32m'Blue'\u001b[39m ]\n"
     ]
    }
   ],
   "source": [
    "\n",
    "console.log(product1)\n",
    "\n",
    "product1.push('Blue'); // this works but shouldn't!!!\n",
    "\n",
    "console.log(product1)"
   ]
  },
  {
   "cell_type": "markdown",
   "id": "7b56d713",
   "metadata": {},
   "source": [
    "<a id=\"ice8\"></a>\n",
    "\n",
    "## In-Class Exercise #8"
   ]
  },
  {
   "cell_type": "markdown",
   "id": "b990ba6b",
   "metadata": {},
   "source": [
    "Create an appropriate tuple named `iceTuple` that contains the values `true` `undefined`"
   ]
  },
  {
   "cell_type": "code",
   "execution_count": 79,
   "id": "1c11f6ba",
   "metadata": {},
   "outputs": [
    {
     "name": "stdout",
     "output_type": "stream",
     "text": [
      "[ \u001b[33mtrue\u001b[39m, \u001b[90mundefined\u001b[39m ]\n"
     ]
    }
   ],
   "source": [
    "let iceTuple: [boolean, undefined]\n",
    "\n",
    "iceTuple = [true, undefined]\n",
    "\n",
    "console.log(iceTuple)"
   ]
  },
  {
   "cell_type": "markdown",
   "id": "ca2d723a",
   "metadata": {},
   "source": [
    "<a id=\"enum\"></a>\n",
    "\n",
    "### Enum Type"
   ]
  },
  {
   "cell_type": "markdown",
   "id": "7dc8aaa0",
   "metadata": {},
   "source": [
    "Enums are used when there are highly related constants.\n",
    "\n",
    "To create an enum we use the syntax\n",
    "\n",
    "`enum NameOfEnum {key, key, key}`\n",
    "\n",
    "<b>Note: </b> Notice there is no equal sign\n",
    "\n",
    "Enums should be named using PascalCase\n",
    "\n",
    "By default each member of the enums value will be the index position of that value (starts at 0)"
   ]
  },
  {
   "cell_type": "code",
   "execution_count": 3,
   "id": "b7f14972",
   "metadata": {},
   "outputs": [
    {
     "name": "stdout",
     "output_type": "stream",
     "text": [
      "\u001b[33m0\u001b[39m\n",
      "\u001b[33m1\u001b[39m\n",
      "\u001b[33m2\u001b[39m\n"
     ]
    }
   ],
   "source": [
    "enum Size {Small, Medium, Large} \n",
    "\n",
    "console.log(Size.Small)\n",
    "console.log(Size.Medium)\n",
    "console.log(Size.Large)"
   ]
  },
  {
   "cell_type": "code",
   "execution_count": 6,
   "id": "0b858544",
   "metadata": {},
   "outputs": [],
   "source": [
    "function getPrice(shirtSize:Size): number {\n",
    "    if (shirtSize === Size.Small){\n",
    "        return 9.99\n",
    "    } else if (shirtSize === Size.Medium){\n",
    "        return 10.99\n",
    "    } else {\n",
    "        return 11.99\n",
    "    }\n",
    "}"
   ]
  },
  {
   "cell_type": "code",
   "execution_count": 8,
   "id": "33a4157b",
   "metadata": {},
   "outputs": [
    {
     "name": "stdout",
     "output_type": "stream",
     "text": [
      "\u001b[33m10.99\u001b[39m\n"
     ]
    }
   ],
   "source": [
    "let mySize: Size = Size.Medium;\n",
    "\n",
    "getPrice(mySize)"
   ]
  },
  {
   "cell_type": "markdown",
   "id": "93ff7127",
   "metadata": {},
   "source": [
    "We can start at a different number other than 0 by setting a number on the first element.  The following elements value with be incremented by one"
   ]
  },
  {
   "cell_type": "code",
   "execution_count": 9,
   "id": "b80550c1",
   "metadata": {},
   "outputs": [
    {
     "name": "stdout",
     "output_type": "stream",
     "text": [
      "\u001b[33m5\u001b[39m\n",
      "\u001b[33m6\u001b[39m\n",
      "\u001b[33m7\u001b[39m\n"
     ]
    }
   ],
   "source": [
    "enum Size {Small=5, Medium, Large};\n",
    "\n",
    "console.log(Size.Small);\n",
    "console.log(Size.Medium);\n",
    "console.log(Size.Large);"
   ]
  },
  {
   "cell_type": "markdown",
   "id": "6e21c3f0",
   "metadata": {},
   "source": [
    "#### Explicitly setting enum values"
   ]
  },
  {
   "cell_type": "markdown",
   "id": "f94a7cb0",
   "metadata": {},
   "source": [
    "We can explicitly set the enum values to other types, but when we do this we must assign every single element a value. "
   ]
  },
  {
   "cell_type": "code",
   "execution_count": 10,
   "id": "1248f0d7",
   "metadata": {},
   "outputs": [
    {
     "name": "stdout",
     "output_type": "stream",
     "text": [
      "S\n",
      "M\n",
      "L\n"
     ]
    }
   ],
   "source": [
    "enum Size {Small='S', Medium='M', Large='L'}\n",
    "\n",
    "console.log(Size.Small);\n",
    "console.log(Size.Medium);\n",
    "console.log(Size.Large);"
   ]
  },
  {
   "cell_type": "code",
   "execution_count": 11,
   "id": "369f7934",
   "metadata": {},
   "outputs": [
    {
     "name": "stdout",
     "output_type": "stream",
     "text": [
      "M\n"
     ]
    }
   ],
   "source": [
    "let myShirtSize:Size = Size.Medium;\n",
    "console.log(myShirtSize);"
   ]
  },
  {
   "cell_type": "code",
   "execution_count": 13,
   "id": "7b12bf69",
   "metadata": {},
   "outputs": [
    {
     "name": "stderr",
     "output_type": "stream",
     "text": [
      "3:30 - Property 'ExtraLarge' does not exist on type 'typeof Size'.\n"
     ]
    }
   ],
   "source": [
    "// let myPantsSize:Size = 'Large';\n",
    "\n",
    "let myJacketSize:Size = Size.ExtraLarge"
   ]
  },
  {
   "cell_type": "code",
   "execution_count": 15,
   "id": "1177da21",
   "metadata": {},
   "outputs": [],
   "source": [
    "enum HTTPStatusCode {\n",
    "    OK = 200,\n",
    "    BadRequest = 400,\n",
    "    Unauthorized = 401,\n",
    "    NotFound = 404,\n",
    "    MethodNotAllowed = 405,\n",
    "    InternalServerError = 500\n",
    "}"
   ]
  },
  {
   "cell_type": "code",
   "execution_count": 19,
   "id": "563e6285",
   "metadata": {},
   "outputs": [
    {
     "name": "stderr",
     "output_type": "stream",
     "text": [
      "25:20 - Argument of type '100' is not assignable to parameter of type 'HTTPStatusCode'.\n"
     ]
    }
   ],
   "source": [
    "function handleResponseEnum(statusCode:HTTPStatusCode):void{\n",
    "    switch(statusCode){\n",
    "        case HTTPStatusCode.OK:\n",
    "            console.log('The request was successful');\n",
    "            break;\n",
    "        case HTTPStatusCode.BadRequest:\n",
    "            console.log('Your request was bad, please change and try again')\n",
    "            break;\n",
    "        case HTTPStatusCode.Unauthorized:\n",
    "            console.log('You must authenticate yourself for this request')\n",
    "            break;\n",
    "        case HTTPStatusCode.NotFound:\n",
    "            console.log('The resource you are looking for is not here')\n",
    "            break;\n",
    "        case HTTPStatusCode.MethodNotAllowed:\n",
    "            console.log('That type of request method is not allowed')\n",
    "            break;\n",
    "        case HTTPStatusCode.InternalServerError:\n",
    "            console.log('Something went wrong on our end, whoops!')\n",
    "            break;\n",
    "    }\n",
    "}\n",
    "\n",
    "\n",
    "handleResponseEnum(100);"
   ]
  },
  {
   "cell_type": "code",
   "execution_count": 18,
   "id": "832f76e9",
   "metadata": {},
   "outputs": [],
   "source": [
    "function handleResponseNoEnum(statusCode:number):void{\n",
    "    switch(statusCode){\n",
    "        case 200:\n",
    "            console.log('The request was successful');\n",
    "            break;\n",
    "        case 400:\n",
    "            console.log('Your request was bad, please change and try again')\n",
    "            break;\n",
    "        case 401:\n",
    "            console.log('You must authenticate yourself for this request')\n",
    "            break;\n",
    "        case 404:\n",
    "            console.log('The resource you are looking for is not here')\n",
    "            break;\n",
    "        case 405:\n",
    "            console.log('That type of request method is not allowed')\n",
    "            break;\n",
    "        case 500:\n",
    "            console.log('Something went wrong on our end, whoops!')\n",
    "            break;\n",
    "    }\n",
    "}\n",
    "\n",
    "\n",
    "handleResponseNoEnum(100)"
   ]
  },
  {
   "cell_type": "code",
   "execution_count": 22,
   "id": "ab84588c",
   "metadata": {},
   "outputs": [],
   "source": [
    "enum Test {key1, key2}"
   ]
  },
  {
   "cell_type": "markdown",
   "id": "b4159033",
   "metadata": {},
   "source": [
    "<a id=\"ice9\"></a>\n",
    "\n",
    "## In-Class Exercise #9"
   ]
  },
  {
   "cell_type": "markdown",
   "id": "bc84a089",
   "metadata": {},
   "source": [
    "Create an enum type to represent The different football teams that can be on the field.\n",
    "\n",
    "`offense` `defense` and `specialTeams`\n",
    "\n",
    "They should be represented by `O`,`D`, and `ST` respectively\n",
    "\n",
    "name the enum `IceEnum`\n",
    "\n",
    "use the Ice Enum to print `ST O D`"
   ]
  },
  {
   "cell_type": "code",
   "execution_count": 23,
   "id": "059359a1",
   "metadata": {},
   "outputs": [
    {
     "name": "stdout",
     "output_type": "stream",
     "text": [
      "ST O D\n"
     ]
    }
   ],
   "source": [
    "enum IceEnum {Offense='O', Defense='D', SpecialTeams='ST'}\n",
    "\n",
    "console.log(IceEnum.SpecialTeams, IceEnum.Offense, IceEnum.Defense)"
   ]
  },
  {
   "cell_type": "markdown",
   "id": "68b924b1",
   "metadata": {},
   "source": [
    "<a id=\"unknown\"></a>\n",
    "\n",
    "### Unknown Type"
   ]
  },
  {
   "cell_type": "markdown",
   "id": "86c40f67",
   "metadata": {},
   "source": [
    "The Unknown type is similar to the any type, but it will enforce type checking.  In order to use an Unknown type we must use a Type Guard to perform narrowing."
   ]
  },
  {
   "cell_type": "markdown",
   "id": "ae1d1157",
   "metadata": {},
   "source": [
    "#### With any"
   ]
  },
  {
   "cell_type": "markdown",
   "id": "a5750cad",
   "metadata": {},
   "source": [
    "We see here no compilation error, yet the person parameter has no guarentee it has the abilities to walk and talk"
   ]
  },
  {
   "cell_type": "code",
   "execution_count": 24,
   "id": "800b05ff",
   "metadata": {},
   "outputs": [],
   "source": [
    "function myUnknownFunction(person):void{\n",
    "    person.walk();\n",
    "    person.talk();\n",
    "}"
   ]
  },
  {
   "cell_type": "code",
   "execution_count": 26,
   "id": "ce7dc8b0",
   "metadata": {},
   "outputs": [],
   "source": [
    "// myUnknownFunction('Brian')"
   ]
  },
  {
   "cell_type": "markdown",
   "id": "94ddf873",
   "metadata": {},
   "source": [
    "#### With Unknown"
   ]
  },
  {
   "cell_type": "markdown",
   "id": "91f02f00",
   "metadata": {},
   "source": [
    "The person parameter is now annotated as unknown and we see we get a compilation error when trying to use this code"
   ]
  },
  {
   "cell_type": "code",
   "execution_count": 27,
   "id": "2e5c4f3e",
   "metadata": {},
   "outputs": [
    {
     "name": "stderr",
     "output_type": "stream",
     "text": [
      "2:12 - Property 'walk' does not exist on type 'unknown'.\n",
      "3:12 - Property 'talk' does not exist on type 'unknown'.\n"
     ]
    }
   ],
   "source": [
    "function myUnknownFunction(person:unknown):void{\n",
    "    person.walk();\n",
    "    person.talk();\n",
    "}\n",
    "\n"
   ]
  },
  {
   "cell_type": "markdown",
   "id": "582187a6",
   "metadata": {},
   "source": [
    "<a id=\"guard\"></a>\n",
    "\n",
    "#### Type Narrowing"
   ]
  },
  {
   "cell_type": "markdown",
   "id": "fbcb069b",
   "metadata": {},
   "source": [
    "To be able to use the unknown type we must first create our <b>Type Guard</b>.  This will narrow down the datatype so you can perform approiate actions.\n",
    "\n",
    "<strong>Note: </strong> This also allows the itellisense to kick in and give suggestions"
   ]
  },
  {
   "cell_type": "code",
   "execution_count": 29,
   "id": "3bab2b74",
   "metadata": {},
   "outputs": [],
   "source": [
    "class Person {\n",
    "    name:string\n",
    "    constructor(name:string){\n",
    "        this.name = name\n",
    "    }\n",
    "    walk(){console.log(this.name + ' is walking')}\n",
    "    talk(){console.log(this.name + ' is talking')}\n",
    "}"
   ]
  },
  {
   "cell_type": "code",
   "execution_count": 30,
   "id": "c6efa4c2",
   "metadata": {},
   "outputs": [
    {
     "name": "stdout",
     "output_type": "stream",
     "text": [
      "Brian is walking\n",
      "Brian is talking\n"
     ]
    }
   ],
   "source": [
    "let person1 = new Person('Brian')\n",
    "person1.walk()\n",
    "person1.talk()"
   ]
  },
  {
   "cell_type": "code",
   "execution_count": 31,
   "id": "e6bdeb6d",
   "metadata": {
    "scrolled": true
   },
   "outputs": [],
   "source": [
    "function myUnknownFunction2(person:unknown):void{\n",
    "    if (person instanceof Person){\n",
    "        person.walk();\n",
    "        person.talk();\n",
    "    } else if (typeof person === 'string'){\n",
    "        console.log('Hello ' + person.toUpperCase())\n",
    "    } else {\n",
    "        console.log('Not really a person... do something else')\n",
    "    }\n",
    "}"
   ]
  },
  {
   "cell_type": "code",
   "execution_count": 32,
   "id": "27509822",
   "metadata": {},
   "outputs": [
    {
     "name": "stdout",
     "output_type": "stream",
     "text": [
      "Brian is walking\n",
      "Brian is talking\n"
     ]
    }
   ],
   "source": [
    "myUnknownFunction2(person1)"
   ]
  },
  {
   "cell_type": "code",
   "execution_count": 33,
   "id": "c4611055",
   "metadata": {},
   "outputs": [
    {
     "name": "stdout",
     "output_type": "stream",
     "text": [
      "Hello SARAH\n"
     ]
    }
   ],
   "source": [
    "myUnknownFunction2('Sarah')"
   ]
  },
  {
   "cell_type": "code",
   "execution_count": 34,
   "id": "84c30e4f",
   "metadata": {},
   "outputs": [
    {
     "name": "stdout",
     "output_type": "stream",
     "text": [
      "Not really a person... do something else\n"
     ]
    }
   ],
   "source": [
    "myUnknownFunction2(true)"
   ]
  },
  {
   "cell_type": "markdown",
   "id": "ee7f9a80",
   "metadata": {},
   "source": [
    "<a id=\"ice10\"></a>\n",
    "\n",
    "## In-Class Exercise #10"
   ]
  },
  {
   "cell_type": "markdown",
   "id": "32d4d413",
   "metadata": {},
   "source": [
    "Create a function that uses an unknown type parameter and implement a type guard.\n",
    "\n",
    "- If the parameter is a number we want the function to return the number sqaured\n",
    "\n",
    "- If the parameter is a string we want the function to return the string in uppercase letters\n",
    "\n",
    "- If the parameter is a boolean we want the function to return \"Its on\" if the boolean is true and \"Its off\" if the boolean is false\n",
    "\n",
    "- If the parameter is of any other type just return the parameter\n",
    "\n",
    "Name the function `iceGuard`\n",
    "\n",
    "Test your function for all 4 use cases"
   ]
  },
  {
   "cell_type": "code",
   "execution_count": 36,
   "id": "a081dc08",
   "metadata": {},
   "outputs": [
    {
     "name": "stdout",
     "output_type": "stream",
     "text": [
      "HELLO\n",
      "\u001b[33m100\u001b[39m\n",
      "It's on\n",
      "It's off\n",
      "[ \u001b[33m1\u001b[39m, \u001b[33m2\u001b[39m, \u001b[33m3\u001b[39m ]\n"
     ]
    }
   ],
   "source": [
    "function iceGuard(variable:unknown){\n",
    "    if (typeof variable === 'number'){\n",
    "        return variable ** 2\n",
    "    } else if (typeof variable === 'string'){\n",
    "        return variable.toUpperCase()\n",
    "    } else if (typeof variable === 'boolean'){\n",
    "        return (variable) ? \"It's on\" : \"It's off\"\n",
    "    } else {\n",
    "        return variable\n",
    "    }\n",
    "}\n",
    "\n",
    "\n",
    "console.log(iceGuard('hello')) // 'HELLO'\n",
    "console.log(iceGuard(10)) // 100\n",
    "console.log(iceGuard(true)) // \"it's on\"\n",
    "console.log(iceGuard(false)) // \"it's off\"\n",
    "console.log(iceGuard([1, 2, 3])) // [1, 2, 3]"
   ]
  },
  {
   "cell_type": "markdown",
   "id": "666d1721",
   "metadata": {},
   "source": [
    "<a id=\"never\"></a>\n",
    "\n",
    "## Never Type"
   ]
  },
  {
   "cell_type": "markdown",
   "id": "52835f17",
   "metadata": {},
   "source": [
    "This is a rarely used Type, and generally used as a return type from a function.\n",
    "\n",
    "The never type is used to denote that a function never returns.  This means the function runs infintely, like a web server.\n",
    "\n",
    "I recommend not invoking (calling) the `myNeverFunction` as it is an in\n",
    "finite loop and may crash your notebook.  The example is to show you the use of `never`"
   ]
  },
  {
   "cell_type": "code",
   "execution_count": 35,
   "id": "e95db644",
   "metadata": {},
   "outputs": [],
   "source": [
    "function myNeverFunction():never{\n",
    "    console.log('This has started')\n",
    "    while(true){\n",
    "        console.log('this is running')\n",
    "    }\n",
    "}\n"
   ]
  },
  {
   "cell_type": "markdown",
   "id": "a0920209",
   "metadata": {},
   "source": [
    "<a id=\"obj\"></a>\n",
    "\n",
    "# Objects and TS"
   ]
  },
  {
   "cell_type": "markdown",
   "id": "6f18241a",
   "metadata": {},
   "source": [
    "Object are a built-in type from JS, but working with them in TS can be a little different we will go over a few ways to work with Objects in TS."
   ]
  },
  {
   "cell_type": "markdown",
   "id": "9b73a177",
   "metadata": {},
   "source": [
    "When declaring an Object TS will implictly force your object to maintain its \"shape\".  This means you can not dynamically add properties to your objects like you can in JS, and when you change a property is has to have the correct datatype.\n",
    "\n",
    "When we talk about the \"shape\" of an object we are talking about is keys, types, and methods."
   ]
  },
  {
   "cell_type": "code",
   "execution_count": 46,
   "id": "88ebf090",
   "metadata": {},
   "outputs": [
    {
     "name": "stderr",
     "output_type": "stream",
     "text": [
      "4:1 - Type 'string' is not assignable to type 'number'.\n"
     ]
    }
   ],
   "source": [
    "let student1 = { id: 1 }\n",
    "\n",
    "// student1.firstName = 'Brian' //Error because name:string is not part of our shape\n",
    "// student1.id = 'abc' // Error because id:string is not assignable to number"
   ]
  },
  {
   "cell_type": "code",
   "execution_count": 47,
   "id": "a2dc55dd",
   "metadata": {},
   "outputs": [
    {
     "name": "stdout",
     "output_type": "stream",
     "text": [
      "{ id: \u001b[33m2\u001b[39m, firstName: \u001b[32m'Bob'\u001b[39m }\n"
     ]
    }
   ],
   "source": [
    "let student2 = { id:2, firstName: \"Robert\" }\n",
    "student2.firstName = 'Bob';\n",
    "console.log(student2)"
   ]
  },
  {
   "cell_type": "code",
   "execution_count": 49,
   "id": "b2b85d43",
   "metadata": {},
   "outputs": [
    {
     "name": "stdout",
     "output_type": "stream",
     "text": [
      "{ id: \u001b[33m123\u001b[39m, firstName: \u001b[32m'Danielle'\u001b[39m }\n"
     ]
    }
   ],
   "source": [
    "let student3 = { id: 3, firstName: 'Danielle' }\n",
    "// student3.id = 'abc' //error\n",
    "student3.id = 123;\n",
    "console.log(student3)"
   ]
  },
  {
   "cell_type": "code",
   "execution_count": 50,
   "id": "de6bf784",
   "metadata": {
    "scrolled": true
   },
   "outputs": [
    {
     "name": "stdout",
     "output_type": "stream",
     "text": [
      "{ id: \u001b[33m4\u001b[39m, firstName: \u001b[32m'Fred'\u001b[39m }\n"
     ]
    }
   ],
   "source": [
    "// Explicit typing of an object\n",
    "// let objName: {prop1:type, prop2:type, etc} = {prop1: value1, prop2: value2, etc}\n",
    "\n",
    "let student4: {id:number, firstName:string} = {\n",
    "    id: 4,\n",
    "    firstName: 'Fred'\n",
    "};\n",
    "\n",
    "console.log(student4)"
   ]
  },
  {
   "cell_type": "markdown",
   "id": "fa0f7aa9",
   "metadata": {},
   "source": [
    "<a id=\"ice11\"></a>\n",
    "\n",
    "## In-Class Exercise #11"
   ]
  },
  {
   "cell_type": "markdown",
   "id": "7838732f",
   "metadata": {},
   "source": [
    "Define the shape and the values for an object name `iceMan`\n",
    "\n",
    "Ice man should have:\n",
    "\n",
    "- a id that is a number\n",
    "\n",
    "- a name that is a string\n",
    "\n",
    "- a wasFrozen property that is a boolean on whether or not our iceMan was ever frozen in time"
   ]
  },
  {
   "cell_type": "code",
   "execution_count": 53,
   "id": "67e38dc5",
   "metadata": {},
   "outputs": [
    {
     "name": "stdout",
     "output_type": "stream",
     "text": [
      "┌───────────┬────────┐\n",
      "│  (index)  │ Values │\n",
      "├───────────┼────────┤\n",
      "│    id     │  \u001b[33m123\u001b[39m   │\n",
      "│   name    │ \u001b[32m'Link'\u001b[39m │\n",
      "│ wasFrozen │ \u001b[33mfalse\u001b[39m  │\n",
      "└───────────┴────────┘\n",
      "┌───────────┬────────┐\n",
      "│  (index)  │ Values │\n",
      "├───────────┼────────┤\n",
      "│    id     │  \u001b[33m123\u001b[39m   │\n",
      "│   name    │ \u001b[32m'Link'\u001b[39m │\n",
      "│ wasFrozen │  \u001b[33mtrue\u001b[39m  │\n",
      "└───────────┴────────┘\n"
     ]
    }
   ],
   "source": [
    "let iceMan: {id:number, name:string, wasFrozen:boolean} = {\n",
    "    id: 123,\n",
    "    name: 'Link',\n",
    "    wasFrozen: false\n",
    "}\n",
    "\n",
    "\n",
    "console.table(iceMan);\n",
    "iceMan.wasFrozen = true;\n",
    "\n",
    "console.table(iceMan);"
   ]
  },
  {
   "cell_type": "markdown",
   "id": "0a7da4c1",
   "metadata": {},
   "source": [
    "<a id=\"type\"></a>\n",
    "\n",
    "## Type Aliases"
   ]
  },
  {
   "cell_type": "markdown",
   "id": "2a7aff0b",
   "metadata": {},
   "source": [
    "The above way to work with objects is a bit cumbersome.  There is an easier way using a type alias, which allows you to predefine the shape and reuse this shape.\n",
    "\n",
    "The type's name should be written in PascalCase"
   ]
  },
  {
   "cell_type": "code",
   "execution_count": 54,
   "id": "114b13c6",
   "metadata": {},
   "outputs": [],
   "source": [
    "type Student = {\n",
    "    id: number,\n",
    "    firstName: string,\n",
    "    lastName: string\n",
    "}"
   ]
  },
  {
   "cell_type": "code",
   "execution_count": 56,
   "id": "91a7ee24",
   "metadata": {},
   "outputs": [
    {
     "name": "stdout",
     "output_type": "stream",
     "text": [
      "┌───────────┬──────────────┐\n",
      "│  (index)  │    Values    │\n",
      "├───────────┼──────────────┤\n",
      "│    id     │      \u001b[33m5\u001b[39m       │\n",
      "│ firstName │   \u001b[32m'George'\u001b[39m   │\n",
      "│ lastName  │ \u001b[32m'Washington'\u001b[39m │\n",
      "└───────────┴──────────────┘\n"
     ]
    }
   ],
   "source": [
    "let student5: Student = {\n",
    "    id: 5,\n",
    "    firstName: 'George',\n",
    "    lastName: 'Washington'\n",
    "}\n",
    "\n",
    "console.table(student5)"
   ]
  },
  {
   "cell_type": "code",
   "execution_count": 57,
   "id": "083ebce0",
   "metadata": {},
   "outputs": [
    {
     "name": "stderr",
     "output_type": "stream",
     "text": [
      "1:1 - Type 'boolean' is not assignable to type 'string'.\n"
     ]
    }
   ],
   "source": [
    "student5.firstName = true"
   ]
  },
  {
   "cell_type": "code",
   "execution_count": 58,
   "id": "9df43d34",
   "metadata": {},
   "outputs": [
    {
     "name": "stderr",
     "output_type": "stream",
     "text": [
      "1:10 - Property 'grade' does not exist on type 'Student'.\n"
     ]
    }
   ],
   "source": [
    "student5.grade = 'A+'"
   ]
  },
  {
   "cell_type": "code",
   "execution_count": 61,
   "id": "c5598fd7",
   "metadata": {},
   "outputs": [
    {
     "name": "stdout",
     "output_type": "stream",
     "text": [
      "{ id: \u001b[33m6\u001b[39m, firstName: \u001b[32m'Megan'\u001b[39m, lastName: \u001b[32m'Daniels'\u001b[39m }\n"
     ]
    }
   ],
   "source": [
    "let student6: Student = { id: 6, firstName: 'Megan', lastName: 'Daniels' }\n",
    "\n",
    "console.log(student6)"
   ]
  },
  {
   "cell_type": "markdown",
   "id": "02817f40",
   "metadata": {},
   "source": [
    "<a id=\"ice12\"></a>\n",
    "\n",
    "## In-Class Exercise #12"
   ]
  },
  {
   "cell_type": "markdown",
   "id": "3322bc7a",
   "metadata": {},
   "source": [
    "Define the type for an our iceMan we made in the last example and name the type `IceManType`  Then create 3 iceMen called `iceMan1` `iceMan2` and `iceMan3`.\n",
    "\n",
    "Ice man should have:\n",
    "\n",
    "- a id that is a number\n",
    "\n",
    "- a name that is a string\n",
    "\n",
    "- a wasFrozen property that is a boolean on whether or not our iceMan was ever frozen in time"
   ]
  },
  {
   "cell_type": "code",
   "execution_count": 62,
   "id": "11fc2916",
   "metadata": {},
   "outputs": [],
   "source": [
    "type IceManType = {\n",
    "    id:number,\n",
    "    name:string,\n",
    "    wasFrozen:boolean\n",
    "}"
   ]
  },
  {
   "cell_type": "code",
   "execution_count": 63,
   "id": "17f5acf8",
   "metadata": {
    "scrolled": true
   },
   "outputs": [
    {
     "name": "stdout",
     "output_type": "stream",
     "text": [
      "┌───────────┬────────┐\n",
      "│  (index)  │ Values │\n",
      "├───────────┼────────┤\n",
      "│    id     │   \u001b[33m1\u001b[39m    │\n",
      "│   name    │ \u001b[32m'Link'\u001b[39m │\n",
      "│ wasFrozen │  \u001b[33mtrue\u001b[39m  │\n",
      "└───────────┴────────┘\n",
      "┌───────────┬────────────────────┐\n",
      "│  (index)  │       Values       │\n",
      "├───────────┼────────────────────┤\n",
      "│    id     │         \u001b[33m2\u001b[39m          │\n",
      "│   name    │ \u001b[32m'Stanley Shephard'\u001b[39m │\n",
      "│ wasFrozen │        \u001b[33mtrue\u001b[39m        │\n",
      "└───────────┴────────────────────┘\n",
      "┌───────────┬─────────────────┐\n",
      "│  (index)  │     Values      │\n",
      "├───────────┼─────────────────┤\n",
      "│    id     │        \u001b[33m3\u001b[39m        │\n",
      "│   name    │ \u001b[32m'GEICO Caveman'\u001b[39m │\n",
      "│ wasFrozen │      \u001b[33mfalse\u001b[39m      │\n",
      "└───────────┴─────────────────┘\n"
     ]
    }
   ],
   "source": [
    "let iceMan1: IceManType = { id: 1, name: 'Link', wasFrozen: true };\n",
    "let iceMan2: IceManType = { id: 2, name: 'Stanley Shephard', wasFrozen: true };\n",
    "let iceMan3: IceManType = { id: 3, name: 'GEICO Caveman', wasFrozen: false };\n",
    "\n",
    "console.table(iceMan1);\n",
    "console.table(iceMan2);\n",
    "console.table(iceMan3);"
   ]
  },
  {
   "cell_type": "code",
   "execution_count": 66,
   "id": "9d2f41c0",
   "metadata": {},
   "outputs": [
    {
     "name": "stdout",
     "output_type": "stream",
     "text": [
      "{ id: \u001b[33m4\u001b[39m, name: \u001b[32m'Hardboiled Eggs'\u001b[39m, wasFrozen: \u001b[33mfalse\u001b[39m }\n"
     ]
    }
   ],
   "source": [
    "let iceMan4: IceManType = { id: 4, name: 'Hardboiled Eggs', wasFrozen: false }\n",
    "console.log(iceMan4)"
   ]
  },
  {
   "cell_type": "markdown",
   "id": "10b7ff08",
   "metadata": {},
   "source": [
    "<a id=\"readonly\"></a>\n",
    "\n",
    "#### readonly"
   ]
  },
  {
   "cell_type": "markdown",
   "id": "cf1387b6",
   "metadata": {},
   "source": [
    "Sometime there are properties of an object that should never change, for instance an id should never be changed.  This rule can be enforced with the `readonly` keyword"
   ]
  },
  {
   "cell_type": "code",
   "execution_count": 67,
   "id": "8dff2ae7",
   "metadata": {},
   "outputs": [],
   "source": [
    "type Teacher = {\n",
    "    readonly id: number,\n",
    "    firstName:string,\n",
    "    lastName:string\n",
    "}"
   ]
  },
  {
   "cell_type": "code",
   "execution_count": 68,
   "id": "224e1d6a",
   "metadata": {},
   "outputs": [
    {
     "name": "stdout",
     "output_type": "stream",
     "text": [
      "{ id: \u001b[33m321\u001b[39m, firstName: \u001b[32m'Paul'\u001b[39m, lastName: \u001b[32m'Denning'\u001b[39m }\n"
     ]
    }
   ],
   "source": [
    "let teacher1: Teacher = {id: 321, firstName: 'Paul', lastName: 'Denning'};\n",
    "console.log(teacher1)"
   ]
  },
  {
   "cell_type": "code",
   "execution_count": 69,
   "id": "0a00829c",
   "metadata": {},
   "outputs": [
    {
     "name": "stdout",
     "output_type": "stream",
     "text": [
      "\u001b[33m321\u001b[39m\n"
     ]
    }
   ],
   "source": [
    "console.log(teacher1.id)"
   ]
  },
  {
   "cell_type": "code",
   "execution_count": 70,
   "id": "498f0806",
   "metadata": {},
   "outputs": [
    {
     "name": "stderr",
     "output_type": "stream",
     "text": [
      "1:10 - Cannot assign to 'id' because it is a read-only property.\n"
     ]
    }
   ],
   "source": [
    "teacher1.id = 456;"
   ]
  },
  {
   "cell_type": "code",
   "execution_count": 71,
   "id": "d8ac2982",
   "metadata": {},
   "outputs": [
    {
     "name": "stdout",
     "output_type": "stream",
     "text": [
      "{ id: \u001b[33m321\u001b[39m, firstName: \u001b[32m'David'\u001b[39m, lastName: \u001b[32m'Denning'\u001b[39m }\n"
     ]
    }
   ],
   "source": [
    "teacher1.firstName = 'David';\n",
    "console.log(teacher1)"
   ]
  },
  {
   "cell_type": "markdown",
   "id": "f8665c3d",
   "metadata": {},
   "source": [
    "<a id=\"opt\"></a>\n",
    "\n",
    "#### Optional fields"
   ]
  },
  {
   "cell_type": "markdown",
   "id": "02369f88",
   "metadata": {},
   "source": [
    "Sometime you also have fields that should be optional, and not required to add in, like a Fax Number or Address Line 2.  This can be denoted using the `?`"
   ]
  },
  {
   "cell_type": "code",
   "execution_count": 72,
   "id": "5d1286b0",
   "metadata": {},
   "outputs": [],
   "source": [
    "type Employee = {\n",
    "    readonly id: number,\n",
    "    firstName: string,\n",
    "    lastName: string,\n",
    "    faxNumber?: string\n",
    "}"
   ]
  },
  {
   "cell_type": "code",
   "execution_count": 74,
   "id": "3be51bc1",
   "metadata": {},
   "outputs": [
    {
     "name": "stdout",
     "output_type": "stream",
     "text": [
      "{ id: \u001b[33m555\u001b[39m, firstName: \u001b[32m'Jack'\u001b[39m, lastName: \u001b[32m'Bauer'\u001b[39m }\n"
     ]
    }
   ],
   "source": [
    "let emp1:Employee = { id: 555, firstName: 'Jack', lastName: 'Bauer'}\n",
    "console.log(emp1)"
   ]
  },
  {
   "cell_type": "code",
   "execution_count": 76,
   "id": "6690e002",
   "metadata": {},
   "outputs": [
    {
     "name": "stdout",
     "output_type": "stream",
     "text": [
      "{\n",
      "  id: \u001b[33m555\u001b[39m,\n",
      "  firstName: \u001b[32m'Jack'\u001b[39m,\n",
      "  lastName: \u001b[32m'Bauer'\u001b[39m,\n",
      "  faxNumber: \u001b[32m'(444) 444-1234'\u001b[39m\n",
      "}\n"
     ]
    }
   ],
   "source": [
    "emp1.faxNumber = '(444) 444-1234';\n",
    "console.log(emp1)"
   ]
  },
  {
   "cell_type": "code",
   "execution_count": 75,
   "id": "8e9bdb86",
   "metadata": {},
   "outputs": [
    {
     "name": "stdout",
     "output_type": "stream",
     "text": [
      "{\n",
      "  id: \u001b[33m444\u001b[39m,\n",
      "  firstName: \u001b[32m'Cersie'\u001b[39m,\n",
      "  lastName: \u001b[32m'Lannister'\u001b[39m,\n",
      "  faxNumber: \u001b[32m'(555) 555-4321'\u001b[39m\n",
      "}\n"
     ]
    }
   ],
   "source": [
    "let emp2:Employee = { id: 444, firstName: 'Cersie', lastName: 'Lannister', faxNumber: '(555) 555-4321' }\n",
    "\n",
    "console.log(emp2)"
   ]
  },
  {
   "cell_type": "code",
   "execution_count": 77,
   "id": "be87af03",
   "metadata": {},
   "outputs": [
    {
     "name": "stderr",
     "output_type": "stream",
     "text": [
      "1:5 - Property 'lastName' is missing in type '{ id: number; firstName: string; faxNumber: string; }' but required in type 'Employee'.\n"
     ]
    }
   ],
   "source": [
    "let emp3: Employee = { id: 636, firstName: 'Henry', faxNumber: '(777) 765-4321'}"
   ]
  },
  {
   "cell_type": "markdown",
   "id": "19248947",
   "metadata": {},
   "source": [
    "<a id=\"objmeth\"></a>\n",
    "\n",
    "#### methods"
   ]
  },
  {
   "cell_type": "markdown",
   "id": "247fa926",
   "metadata": {},
   "source": [
    "Types can also include methods that should be implemented."
   ]
  },
  {
   "cell_type": "code",
   "execution_count": 79,
   "id": "a7270e9c",
   "metadata": {},
   "outputs": [],
   "source": [
    "type Employee = {\n",
    "    readonly id: number,\n",
    "    firstName:string,\n",
    "    lastName:string,\n",
    "    faxNumber:string,\n",
    "    sendFax: (body:string)=>string\n",
    "}"
   ]
  },
  {
   "cell_type": "code",
   "execution_count": 96,
   "id": "24e1581d",
   "metadata": {},
   "outputs": [],
   "source": [
    "\n",
    "let emp4: Employee = {\n",
    "    id: 987,\n",
    "    firstName: 'Ryan',\n",
    "    lastName: 'Gosling',\n",
    "    faxNumber: '(756) 759-0987',\n",
    "    sendFax: function(body:string):string{\n",
    "        return `Sending: \"${body}\" from ${this.faxNumber}`\n",
    "    }\n",
    "}"
   ]
  },
  {
   "cell_type": "code",
   "execution_count": 97,
   "id": "20ce4d15",
   "metadata": {},
   "outputs": [
    {
     "name": "stdout",
     "output_type": "stream",
     "text": [
      "Sending: \"I created a new Employee Type\" from (756) 759-0987\n"
     ]
    }
   ],
   "source": [
    "emp4.sendFax('I created a new Employee Type')"
   ]
  },
  {
   "cell_type": "code",
   "execution_count": 84,
   "id": "0b833227",
   "metadata": {},
   "outputs": [
    {
     "name": "stderr",
     "output_type": "stream",
     "text": [
      "1:14 - Argument of type 'number' is not assignable to parameter of type 'string'.\n"
     ]
    }
   ],
   "source": [
    "emp4.sendFax(123)"
   ]
  },
  {
   "cell_type": "code",
   "execution_count": 85,
   "id": "2a2914c8",
   "metadata": {},
   "outputs": [
    {
     "name": "stderr",
     "output_type": "stream",
     "text": [
      "6:5 - Type '(num: number) => number' is not assignable to type '(body: string) => string'.\n",
      "6:5 - Types of parameters 'num' and 'body' are incompatible.\n",
      "6:5 - Type 'string' is not assignable to type 'number'.\n"
     ]
    }
   ],
   "source": [
    "let emp5: Employee = {\n",
    "    id: 777,\n",
    "    firstName: 'Michael',\n",
    "    lastName: 'Beasley',\n",
    "    faxNumber: '(666) 546-4532',\n",
    "    sendFax: function(num:number):number{\n",
    "        return num * this.faxNumber[1]\n",
    "    }\n",
    "}"
   ]
  },
  {
   "cell_type": "code",
   "execution_count": 93,
   "id": "a68f7dab",
   "metadata": {},
   "outputs": [
    {
     "name": "stdout",
     "output_type": "stream",
     "text": [
      "{\n",
      "  id: \u001b[33m666\u001b[39m,\n",
      "  firstName: \u001b[32m'Karen'\u001b[39m,\n",
      "  lastName: \u001b[32m'Karenson'\u001b[39m,\n",
      "  faxNumber: \u001b[32m'lkjasksddfh'\u001b[39m,\n",
      "  sendFax: \u001b[36m[Function: sendFax]\u001b[39m\n",
      "}\n"
     ]
    }
   ],
   "source": [
    "let crazyEmp: Employee = {\n",
    "    id: 666,\n",
    "    firstName: 'Karen',\n",
    "    lastName: 'Karenson',\n",
    "    faxNumber: 'lkjasksddfh',\n",
    "    sendFax: (body:string):string => body\n",
    "}\n",
    "\n",
    "console.log(crazyEmp)"
   ]
  },
  {
   "cell_type": "markdown",
   "id": "682bf826",
   "metadata": {},
   "source": [
    "<a id=\"ice13\"></a>\n",
    "\n",
    "## In-Class Exercise #13"
   ]
  },
  {
   "cell_type": "markdown",
   "id": "8ac638db",
   "metadata": {},
   "source": [
    "Create a type `IceShoeType` and 1 member of this type `iceShoe`\n",
    "\n",
    "all IceProducts must meet the following requirements\n",
    "\n",
    "- has readonly id field\n",
    "- has size (i.e. 7, 8, 11)\n",
    "- has a name\n",
    "- has an Optional value to describe if is the product has a wide version\n",
    "- has a description"
   ]
  },
  {
   "cell_type": "code",
   "execution_count": 98,
   "id": "a2fb8b7a",
   "metadata": {},
   "outputs": [],
   "source": [
    "type IceShoeType = {\n",
    "    readonly id:number,\n",
    "    size:number,\n",
    "    name:string,\n",
    "    hasWide?:boolean,\n",
    "    description:string\n",
    "}\n"
   ]
  },
  {
   "cell_type": "code",
   "execution_count": 99,
   "id": "11c937c0",
   "metadata": {},
   "outputs": [
    {
     "name": "stdout",
     "output_type": "stream",
     "text": [
      "┌─────────────┬────────────────────────────────────┐\n",
      "│   (index)   │               Values               │\n",
      "├─────────────┼────────────────────────────────────┤\n",
      "│     id      │                \u001b[33m4567\u001b[39m                │\n",
      "│    size     │                 \u001b[33m10\u001b[39m                 │\n",
      "│    name     │              \u001b[32m'Boots'\u001b[39m               │\n",
      "│ description │ \u001b[32m'These boots are made for walking'\u001b[39m │\n",
      "└─────────────┴────────────────────────────────────┘\n"
     ]
    }
   ],
   "source": [
    "let iceShoe: IceShoeType = {\n",
    "    id: 4567,\n",
    "    size: 10,\n",
    "    name: 'Boots',\n",
    "    description: 'These boots are made for walking'\n",
    "}\n",
    "\n",
    "console.table(iceShoe)"
   ]
  },
  {
   "cell_type": "code",
   "execution_count": 100,
   "id": "8275f212",
   "metadata": {
    "scrolled": true
   },
   "outputs": [
    {
     "name": "stdout",
     "output_type": "stream",
     "text": [
      "┌─────────────┬────────────────────────────────────┐\n",
      "│   (index)   │               Values               │\n",
      "├─────────────┼────────────────────────────────────┤\n",
      "│     id      │                \u001b[33m4567\u001b[39m                │\n",
      "│    size     │                 \u001b[33m10\u001b[39m                 │\n",
      "│    name     │              \u001b[32m'Boots'\u001b[39m               │\n",
      "│ description │ \u001b[32m'These boots are made for walking'\u001b[39m │\n",
      "│   hasWide   │                \u001b[33mtrue\u001b[39m                │\n",
      "└─────────────┴────────────────────────────────────┘\n"
     ]
    }
   ],
   "source": [
    "iceShoe.hasWide = true\n",
    "console.table(iceShoe)"
   ]
  },
  {
   "cell_type": "code",
   "execution_count": 101,
   "id": "386b51aa",
   "metadata": {},
   "outputs": [],
   "source": [
    "// We can use enums with in our other types\n",
    "\n",
    "enum ShirtSize { Small, Medium, Large }\n",
    "\n",
    "type ShirtType = {\n",
    "    readonly id: number,\n",
    "    size: ShirtSize,\n",
    "    name: string,\n",
    "    longSleeve?: boolean\n",
    "}"
   ]
  },
  {
   "cell_type": "code",
   "execution_count": 106,
   "id": "b22c5f74",
   "metadata": {},
   "outputs": [
    {
     "name": "stdout",
     "output_type": "stream",
     "text": [
      "{\n",
      "  id: \u001b[33m1\u001b[39m,\n",
      "  size: \u001b[33m1\u001b[39m,\n",
      "  name: \u001b[32m'Lake Michigan: No sharks, unsalted'\u001b[39m,\n",
      "  longSleeve: \u001b[33mfalse\u001b[39m\n",
      "}\n"
     ]
    }
   ],
   "source": [
    "let myShirt: ShirtType = {\n",
    "    id: 1,\n",
    "    size: ShirtSize.Medium,\n",
    "    name: 'Lake Michigan: No sharks, unsalted',\n",
    "    longSleeve: false\n",
    "}\n",
    "\n",
    "console.log(myShirt)"
   ]
  },
  {
   "cell_type": "markdown",
   "id": "6910bed6",
   "metadata": {},
   "source": [
    "<a id=\"union\"></a>\n",
    "\n",
    "### Union Types"
   ]
  },
  {
   "cell_type": "markdown",
   "id": "0876547e",
   "metadata": {},
   "source": [
    "We can assign a variable multiple types, instead of just one.  This is great when the value could have multiple datatype.   This is done with the union operator `|` which is the pipe key"
   ]
  },
  {
   "cell_type": "code",
   "execution_count": 107,
   "id": "75cc3c91",
   "metadata": {},
   "outputs": [],
   "source": [
    "let multiType: string|number;"
   ]
  },
  {
   "cell_type": "code",
   "execution_count": 108,
   "id": "3271e1b5",
   "metadata": {},
   "outputs": [
    {
     "name": "stdout",
     "output_type": "stream",
     "text": [
      "Hello this is a string\n"
     ]
    }
   ],
   "source": [
    "multiType = 'Hello this is a string';\n",
    "console.log(multiType);"
   ]
  },
  {
   "cell_type": "code",
   "execution_count": 109,
   "id": "43eac0ac",
   "metadata": {},
   "outputs": [
    {
     "name": "stdout",
     "output_type": "stream",
     "text": [
      "\u001b[33m982374\u001b[39m\n"
     ]
    }
   ],
   "source": [
    "multiType = 982374;\n",
    "console.log(multiType)"
   ]
  },
  {
   "cell_type": "code",
   "execution_count": 110,
   "id": "d500a096",
   "metadata": {
    "scrolled": true
   },
   "outputs": [
    {
     "name": "stderr",
     "output_type": "stream",
     "text": [
      "1:1 - Type 'boolean' is not assignable to type 'string | number'.\n"
     ]
    }
   ],
   "source": [
    "multiType = true"
   ]
  },
  {
   "cell_type": "markdown",
   "id": "bde30263",
   "metadata": {},
   "source": [
    "#### Union Types with Function"
   ]
  },
  {
   "cell_type": "markdown",
   "id": "f43afc07",
   "metadata": {},
   "source": [
    "We using a union type for parameters, one must enable a <b>type guard</b>"
   ]
  },
  {
   "cell_type": "code",
   "execution_count": 111,
   "id": "dcb3e21a",
   "metadata": {},
   "outputs": [
    {
     "name": "stderr",
     "output_type": "stream",
     "text": [
      "3:12 - The left-hand side of an arithmetic operation must be of type 'any', 'number', 'bigint' or an enum type.\n"
     ]
    }
   ],
   "source": [
    "\n",
    "function inchesToCm(length:number|string):number{\n",
    "    return length * 2.54\n",
    "}\n"
   ]
  },
  {
   "cell_type": "code",
   "execution_count": 112,
   "id": "b4085ec1",
   "metadata": {},
   "outputs": [],
   "source": [
    "function inchesToCm(length:number|string):number{\n",
    "    if (typeof length === 'number'){\n",
    "        return length * 2.54\n",
    "    } else {\n",
    "        return Number(length) * 2.54\n",
    "    }\n",
    "}"
   ]
  },
  {
   "cell_type": "code",
   "execution_count": 113,
   "id": "3e0cce35",
   "metadata": {},
   "outputs": [
    {
     "name": "stdout",
     "output_type": "stream",
     "text": [
      "\u001b[33m25.4\u001b[39m\n"
     ]
    }
   ],
   "source": [
    "inchesToCm(10)"
   ]
  },
  {
   "cell_type": "code",
   "execution_count": 114,
   "id": "bf1368c4",
   "metadata": {},
   "outputs": [
    {
     "name": "stdout",
     "output_type": "stream",
     "text": [
      "\u001b[33m254\u001b[39m\n"
     ]
    }
   ],
   "source": [
    "inchesToCm('100')"
   ]
  },
  {
   "cell_type": "code",
   "execution_count": 115,
   "id": "f46cc161",
   "metadata": {
    "scrolled": true
   },
   "outputs": [
    {
     "name": "stderr",
     "output_type": "stream",
     "text": [
      "1:12 - Argument of type 'boolean' is not assignable to parameter of type 'string | number'.\n"
     ]
    }
   ],
   "source": [
    "inchesToCm(false)"
   ]
  },
  {
   "cell_type": "code",
   "execution_count": 118,
   "id": "27859e0f",
   "metadata": {},
   "outputs": [],
   "source": [
    "function addTwoToValue(value:number|string):number|string{\n",
    "    if (typeof value === 'number'){\n",
    "        return value + 2\n",
    "    } else {\n",
    "        return value + 2\n",
    "    }\n",
    "}"
   ]
  },
  {
   "cell_type": "code",
   "execution_count": 119,
   "id": "6ce23d22",
   "metadata": {},
   "outputs": [
    {
     "name": "stdout",
     "output_type": "stream",
     "text": [
      "\u001b[33m12\u001b[39m\n"
     ]
    }
   ],
   "source": [
    "addTwoToValue(10)"
   ]
  },
  {
   "cell_type": "code",
   "execution_count": 120,
   "id": "c7e4e382",
   "metadata": {},
   "outputs": [
    {
     "name": "stdout",
     "output_type": "stream",
     "text": [
      "102\n"
     ]
    }
   ],
   "source": [
    "addTwoToValue('10')"
   ]
  },
  {
   "cell_type": "markdown",
   "id": "a3c0aa4a",
   "metadata": {},
   "source": [
    "<a id=\"ice14\"></a>\n",
    "\n",
    "## In-Class Exercise #14"
   ]
  },
  {
   "cell_type": "markdown",
   "id": "e9cdb24a",
   "metadata": {},
   "source": [
    "Create a function that takes one parameter that can be either a boolean or a string.  Using a type guard have the function return back the boolean or have it return true/false if the string starts with a `\"c\" or \"C\"`\n",
    "\n",
    "Be sure to use type annonations to enforce your parameter types and the functions return type\n",
    "\n",
    "Name the function `ice13`"
   ]
  },
  {
   "cell_type": "code",
   "execution_count": 121,
   "id": "fd9ac130",
   "metadata": {},
   "outputs": [],
   "source": [
    "function ice13(param:boolean|string):boolean{\n",
    "    if (typeof param === 'boolean'){\n",
    "        return param\n",
    "    } else {\n",
    "        return param[0].toLowerCase() === 'c'\n",
    "    }\n",
    "}"
   ]
  },
  {
   "cell_type": "code",
   "execution_count": 122,
   "id": "6e944c56",
   "metadata": {},
   "outputs": [
    {
     "name": "stdout",
     "output_type": "stream",
     "text": [
      "\u001b[33mtrue\u001b[39m\n",
      "\u001b[33mfalse\u001b[39m\n",
      "\u001b[33mtrue\u001b[39m\n",
      "\u001b[33mfalse\u001b[39m\n",
      "\u001b[33mtrue\u001b[39m\n"
     ]
    }
   ],
   "source": [
    "console.log(ice13(true)) // true\n",
    "console.log(ice13(false)) // false\n",
    "console.log(ice13('California')) // true\n",
    "console.log(ice13('New Mexico')) // false\n",
    "console.log(ice13('control')) // true"
   ]
  },
  {
   "cell_type": "markdown",
   "id": "31a7246b",
   "metadata": {},
   "source": [
    "<a id=\"as\"></a>\n",
    "\n",
    "### As Keyword"
   ]
  },
  {
   "cell_type": "markdown",
   "id": "d0235ad0",
   "metadata": {},
   "source": [
    "The `as` keyword tells Typescript to treat a variable like its a member of a certain type.\n",
    "\n",
    "You can solve many problems using `as any`, but this is considered bad practice and should be avoided"
   ]
  },
  {
   "cell_type": "code",
   "execution_count": 123,
   "id": "512771c0",
   "metadata": {},
   "outputs": [
    {
     "name": "stderr",
     "output_type": "stream",
     "text": [
      "2:25 - Argument of type 'string | number' is not assignable to parameter of type 'string'.\n",
      "2:25 - Type 'number' is not assignable to type 'string'.\n"
     ]
    }
   ],
   "source": [
    "function checkArr(arr:string[], value:string|number):boolean{\n",
    "    return arr.includes(value);\n",
    "}"
   ]
  },
  {
   "cell_type": "code",
   "execution_count": 124,
   "id": "0c7d2149",
   "metadata": {},
   "outputs": [],
   "source": [
    "function checkArrAs(arr:string[], value:string|number):boolean{\n",
    "    return arr.includes(value as string)\n",
    "};"
   ]
  },
  {
   "cell_type": "code",
   "execution_count": 125,
   "id": "4a8d214a",
   "metadata": {},
   "outputs": [
    {
     "name": "stdout",
     "output_type": "stream",
     "text": [
      "\u001b[33mtrue\u001b[39m\n"
     ]
    }
   ],
   "source": [
    "checkArrAs(['abc', 'def', 'ghi'], 'abc')"
   ]
  },
  {
   "cell_type": "code",
   "execution_count": 126,
   "id": "c9a4f21e",
   "metadata": {},
   "outputs": [
    {
     "name": "stdout",
     "output_type": "stream",
     "text": [
      "\u001b[33mfalse\u001b[39m\n"
     ]
    }
   ],
   "source": [
    "checkArrAs(['abc', 'def', 'ghi'], 123)"
   ]
  },
  {
   "cell_type": "code",
   "execution_count": 127,
   "id": "7e193f52",
   "metadata": {},
   "outputs": [
    {
     "name": "stderr",
     "output_type": "stream",
     "text": [
      "8:48 - The return type of an async function or method must be the global Promise<T> type. Did you mean to write 'Promise<string>'?\n",
      "10:26 - Cannot find name 'fetch'.\n"
     ]
    }
   ],
   "source": [
    "type Post = {\n",
    "    id: number,\n",
    "    title: string,\n",
    "    body: string\n",
    "}\n",
    "\n",
    "\n",
    "async function getPostTitleById(postId:number):string{\n",
    "    // mimic a fetch request to an API that will return a Post Object\n",
    "    let response = await fetch('');\n",
    "    let data = await response.json() as Post;\n",
    "    return data.title\n",
    "}"
   ]
  },
  {
   "cell_type": "markdown",
   "id": "64c82958",
   "metadata": {},
   "source": [
    "<a id=\"intersec\"></a>\n",
    "\n",
    "### Intersection Types"
   ]
  },
  {
   "cell_type": "markdown",
   "id": "0fb6adaa",
   "metadata": {},
   "source": [
    "We can make new types by combining old types using an intersection and the `&`\n",
    "\n",
    "<b>Note: </b> Two types can be combined if they don't share a common key with different type.  So that means both types can have an id field as long as the id field is defined as the same type (say number) in both original classes"
   ]
  },
  {
   "cell_type": "code",
   "execution_count": 128,
   "id": "70d0e19c",
   "metadata": {},
   "outputs": [],
   "source": [
    "type Moveable = {\n",
    "    id:number,\n",
    "    x:number,\n",
    "    y:number,\n",
    "    move: () => void\n",
    "}\n",
    "\n",
    "\n",
    "type Resizable = {\n",
    "    id: number,\n",
    "    width: number,\n",
    "    height: number,\n",
    "    resize: () => void\n",
    "}"
   ]
  },
  {
   "cell_type": "code",
   "execution_count": 129,
   "id": "e284e153",
   "metadata": {},
   "outputs": [],
   "source": [
    "type Component = Moveable & Resizable"
   ]
  },
  {
   "cell_type": "code",
   "execution_count": 133,
   "id": "3096d301",
   "metadata": {
    "scrolled": true
   },
   "outputs": [],
   "source": [
    "let comp1: Component = {\n",
    "    id: 7,\n",
    "    x: 10,\n",
    "    y: 25,\n",
    "    move: function(){console.log('This is moving...')},\n",
    "    width: 100,\n",
    "    height: 200,\n",
    "    resize: function(){console.log('This is resizing')}\n",
    "}"
   ]
  },
  {
   "cell_type": "code",
   "execution_count": 134,
   "id": "0aee36a8",
   "metadata": {},
   "outputs": [
    {
     "name": "stdout",
     "output_type": "stream",
     "text": [
      "{\n",
      "  id: \u001b[33m7\u001b[39m,\n",
      "  x: \u001b[33m10\u001b[39m,\n",
      "  y: \u001b[33m25\u001b[39m,\n",
      "  move: \u001b[36m[Function: move]\u001b[39m,\n",
      "  width: \u001b[33m100\u001b[39m,\n",
      "  height: \u001b[33m200\u001b[39m,\n",
      "  resize: \u001b[36m[Function: resize]\u001b[39m\n",
      "}\n"
     ]
    }
   ],
   "source": [
    "console.log(comp1)"
   ]
  },
  {
   "cell_type": "code",
   "execution_count": 135,
   "id": "421d2c6e",
   "metadata": {},
   "outputs": [
    {
     "name": "stdout",
     "output_type": "stream",
     "text": [
      "This is moving...\n",
      "This is resizing\n"
     ]
    }
   ],
   "source": [
    "comp1.move();\n",
    "comp1.resize()"
   ]
  },
  {
   "cell_type": "markdown",
   "id": "7d0f6e34",
   "metadata": {},
   "source": [
    "<a id=\"ice15\"></a>\n",
    "\n",
    "## In-Class Exercise #15"
   ]
  },
  {
   "cell_type": "markdown",
   "id": "a0d07411",
   "metadata": {},
   "source": [
    "Create two types and then create a 3rd type from those first two type.\n",
    "\n",
    "IceUser:\n",
    "\n",
    "- firstName\n",
    "- lastName\n",
    "- age\n",
    "\n",
    "IceCustomer:\n",
    "- cart (array of strings)\n",
    "- address (string)\n",
    "\n",
    "\n",
    "IceComplete:\n",
    "- Combination of IceCustomer and IceUser\n",
    "\n",
    "Also Create an IceComplete Object named `icedOver`\n"
   ]
  },
  {
   "cell_type": "code",
   "execution_count": 136,
   "id": "f77e9434",
   "metadata": {},
   "outputs": [],
   "source": [
    "type IceUser = {\n",
    "    firstName:string,\n",
    "    lastName:string,\n",
    "    age:number\n",
    "}\n",
    "\n",
    "\n",
    "type IceCustomer = {\n",
    "    cart: string[],\n",
    "    address: string\n",
    "}\n",
    "\n",
    "\n",
    "type IceComplete = IceUser & IceCustomer"
   ]
  },
  {
   "cell_type": "code",
   "execution_count": 137,
   "id": "5a92d0b8",
   "metadata": {},
   "outputs": [
    {
     "name": "stdout",
     "output_type": "stream",
     "text": [
      "{\n",
      "  firstName: \u001b[32m'Brian'\u001b[39m,\n",
      "  lastName: \u001b[32m'Stanton'\u001b[39m,\n",
      "  age: \u001b[33m88\u001b[39m,\n",
      "  cart: [ \u001b[32m'apple'\u001b[39m, \u001b[32m'orange'\u001b[39m, \u001b[32m'banana'\u001b[39m ],\n",
      "  address: \u001b[32m'123 Real Street'\u001b[39m\n",
      "}\n"
     ]
    }
   ],
   "source": [
    "let icedOver: IceComplete = {\n",
    "    firstName: 'Brian',\n",
    "    lastName: 'Stanton',\n",
    "    age: 88,\n",
    "    cart: ['apple', 'orange', 'banana'],\n",
    "    address: '123 Real Street'\n",
    "}\n",
    "\n",
    "console.log(icedOver)"
   ]
  },
  {
   "cell_type": "markdown",
   "id": "50de75ca",
   "metadata": {},
   "source": [
    "<a id=\"literal\"></a>\n",
    "\n",
    "### Literal Types"
   ]
  },
  {
   "cell_type": "markdown",
   "id": "17539510",
   "metadata": {},
   "source": [
    "A Literal type works kind of like an enum type.  You can set the possible values are variable takes by assigning it a value and chaining all posible values with the `|`"
   ]
  },
  {
   "cell_type": "code",
   "execution_count": 140,
   "id": "c76e9792",
   "metadata": {},
   "outputs": [
    {
     "name": "stderr",
     "output_type": "stream",
     "text": [
      "6:1 - Type '50' is not assignable to type '100'.\n"
     ]
    }
   ],
   "source": [
    "// This is useless\n",
    "let literalType1: 100;\n",
    "console.log(literalType1)\n",
    "literalType1 = 100;\n",
    "console.log(literalType1)\n",
    "literalType1 = 50;"
   ]
  },
  {
   "cell_type": "code",
   "execution_count": 141,
   "id": "ff3dff8c",
   "metadata": {},
   "outputs": [
    {
     "name": "stdout",
     "output_type": "stream",
     "text": [
      "\u001b[90mundefined\u001b[39m\n"
     ]
    }
   ],
   "source": [
    "let quarters: 25|50|75|100\n",
    "console.log(quarters)"
   ]
  },
  {
   "cell_type": "code",
   "execution_count": 143,
   "id": "e5095284",
   "metadata": {},
   "outputs": [
    {
     "name": "stdout",
     "output_type": "stream",
     "text": [
      "\u001b[33m75\u001b[39m\n"
     ]
    }
   ],
   "source": [
    "quarters = 75;\n",
    "console.log(quarters)"
   ]
  },
  {
   "cell_type": "markdown",
   "id": "498945b5",
   "metadata": {},
   "source": [
    "We can even define the options as its own type."
   ]
  },
  {
   "cell_type": "code",
   "execution_count": 144,
   "id": "358de934",
   "metadata": {},
   "outputs": [],
   "source": [
    "type PrimaryColor = 'red' | 'yellow' | 'blue'"
   ]
  },
  {
   "cell_type": "code",
   "execution_count": 146,
   "id": "6c2a9404",
   "metadata": {},
   "outputs": [
    {
     "name": "stdout",
     "output_type": "stream",
     "text": [
      "red\n"
     ]
    }
   ],
   "source": [
    "let color1: PrimaryColor = 'red';\n",
    "console.log(color1)"
   ]
  },
  {
   "cell_type": "code",
   "execution_count": 147,
   "id": "4949d9b7",
   "metadata": {},
   "outputs": [
    {
     "name": "stderr",
     "output_type": "stream",
     "text": [
      "1:5 - Type '\"green\"' is not assignable to type 'PrimaryColor'.\n"
     ]
    }
   ],
   "source": [
    "let color2: PrimaryColor = 'green';"
   ]
  },
  {
   "cell_type": "markdown",
   "id": "9504ed7c",
   "metadata": {},
   "source": [
    "<a id=\"ice16\"></a>\n",
    "\n",
    "## In-Class Exercise #16"
   ]
  },
  {
   "cell_type": "markdown",
   "id": "9e327aa4",
   "metadata": {},
   "source": [
    "Create a Literal type that restricts its values to the 6 main characters from friends.  Ross, Rachel, Joey, Chandler, Pheobe, Monica\n",
    "\n",
    "Use that type to create a variable for Rachel"
   ]
  },
  {
   "cell_type": "code",
   "execution_count": 148,
   "id": "861075bb",
   "metadata": {},
   "outputs": [],
   "source": [
    "type Friend = 'Ross' | 'Rachel' | 'Joey' | 'Chandler' | 'Phoebe' | 'Monica'"
   ]
  },
  {
   "cell_type": "code",
   "execution_count": 149,
   "id": "6e36c34a",
   "metadata": {},
   "outputs": [],
   "source": [
    "let rachel:Friend = 'Rachel'"
   ]
  },
  {
   "cell_type": "code",
   "execution_count": 150,
   "id": "aecc548d",
   "metadata": {},
   "outputs": [
    {
     "name": "stderr",
     "output_type": "stream",
     "text": [
      "1:5 - Type '\"Janice\"' is not assignable to type 'Friend'.\n"
     ]
    }
   ],
   "source": [
    "let janice:Friend = 'Janice'"
   ]
  },
  {
   "cell_type": "markdown",
   "id": "a38244ca",
   "metadata": {},
   "source": [
    "<a id=\"nnao\"></a>\n",
    "\n",
    "### Non-null assertion operator"
   ]
  },
  {
   "cell_type": "markdown",
   "id": "6d2e35b3",
   "metadata": {},
   "source": [
    "The non-null assertion operator is used to postfix variables to tell TypeScript that the variable can not be null even thought TypeScript may think that it could be null.  Good practice states this should not be used when the variable could actually be null, and only when TypeScript can't infer that the null type has been ruled out\n",
    "\n",
    "\n",
    "TypeScript has a .tsconfig file (uneditabled in this jupyter notebook) that allows use to turn some of the TypeScript rules on or off (more on this later).  For the following example we want strictNullChecks option turned on (set to true)  This can not be done in this notebook, so check out this example of TypeScript Playground:\n",
    "\n",
    "https://www.typescriptlang.org/play?&install-plugin=@structured-types/playground-plugin#code/PTAqAsFMAIBcGcDGB7AdgMwJYHNrgIbzTySyyaq4BE8sATporAHICuANuwMJSIDW8KgC44dVpAA0AKBlT0rVE0xpoAN3ztMAE3yxIAZXKUAFDtj4A-CNoNKAHwVbIWVJC13UHdgEpoAbyloIOgQaB5IfgpcWGRiSBhYKGgzfGhMIk9OaGQ6aEdnCjdA4Mx0aFNdVIBeGuhM9mg7O2TK6BqqvNQnFzdvAOCBuHA6ZAB3OshxgFE6EbpjAHIYRHxUVGRYaAAjGHqF72KggF9i4pOg+UVyFQAHEcRIeHgp1HJYAE8K8ytieiiHLoFVzueq+frBdSaMwGIzYL74A4DUIpaArVATVSQXL4JisDTsd7bXZebK5fI9LRBQ4hYBElasEhDGB3SCqAB00EuShUo2QHEpMzm2VYsFOSLA7xuBkQDBum3SnXwW3YCViFHQWKGuha5lRqzqGyJdRJOU63UKlOpoXgsVGMBIMFSKAAtjdMOxdMp0Vi5mLgirNkQOik2TEADJjLFcQiQYy+P1W2mgWJYAAeQwVdryjMSuzQAFp6tBCCQ6Nd0cgpXRdDlE9AA8Q2jr8ABCUPICN2ujRkhxhPHYp3ZAPJ4vN6fbxAA\n",
    "\n",
    "\n"
   ]
  },
  {
   "cell_type": "markdown",
   "id": "3a4711e9",
   "metadata": {},
   "source": [
    "<a id=\"hw\"></a>\n",
    "\n",
    "# Homework"
   ]
  },
  {
   "cell_type": "markdown",
   "id": "4d47fea9",
   "metadata": {},
   "source": [
    "#### Question #1"
   ]
  },
  {
   "cell_type": "markdown",
   "id": "a9e8d7cb",
   "metadata": {},
   "source": [
    "Create a type to represent the following instances of `CTStudent` Also declare three 3 students below as type `CTStudent` and set their values\n",
    "\n",
    "```\n",
    "let student1 = {\n",
    "    id: 'GMK435&g62L00',\n",
    "    name: 'John Smith',\n",
    "    age: 24,\n",
    "    isTired: true,\n",
    "    projectsCompleted:[\"HTML Portfolio\", \"Fakebook\", \"Pokemon API Project\", \"Weather Bug\"],\n",
    "    pet: 'dog'\n",
    "}\n",
    "\n",
    "let student2= {\n",
    "    id: '6KGS%54GmlY76',\n",
    "    name: 'Jenny Hawthorne',\n",
    "    age: 28,\n",
    "    isTired: false,\n",
    "    projectsCompleted:[\"HTML Portfolio\"],\n",
    "}\n",
    "\n",
    "let student3 = {\n",
    "    id: '6KGS%54GmlY76',\n",
    "    name: 'Neo',\n",
    "    age: 57,\n",
    "    isTired: true,\n",
    "    projectsCompleted:[\"Matrix\",\"Biological Interface Program\"],\n",
    "    pet:'cat'\n",
    "}\n",
    "```"
   ]
  },
  {
   "cell_type": "code",
   "execution_count": 152,
   "id": "c73d5ef8",
   "metadata": {},
   "outputs": [
    {
     "name": "stderr",
     "output_type": "stream",
     "text": [
      "13:5 - Type '{ id: string; name: string; age: number; isTired: boolean; projectsCompleted: string[]; pet: string; }' is not assignable to type 'CTStudent'.\n",
      "13:5 - Object literal may only specify known properties, and 'name' does not exist in type 'CTStudent'.\n",
      "22:5 - Type '{ id: string; name: string; age: number; isTired: boolean; projectsCompleted: string[]; }' is not assignable to type 'CTStudent'.\n",
      "22:5 - Object literal may only specify known properties, and 'name' does not exist in type 'CTStudent'.\n",
      "30:5 - Type '{ id: string; name: string; age: number; isTired: boolean; projectsCompleted: string[]; pet: string; }' is not assignable to type 'CTStudent'.\n",
      "30:5 - Object literal may only specify known properties, and 'name' does not exist in type 'CTStudent'.\n"
     ]
    }
   ],
   "source": [
    "//Answer\n",
    "\n",
    "type CTStudent = {\n",
    "    id: string\n",
    "}\n",
    "\n",
    "\n",
    "\n",
    "\n",
    "\n",
    "let student1: CTStudent = {\n",
    "    id: 'GMK435&g62L00',\n",
    "    name: 'John Smith',\n",
    "    age: 24,\n",
    "    isTired: true,\n",
    "    projectsCompleted:[\"HTML Portfolio\", \"Fakebook\", \"Pokemon API Project\", \"Weather Bug\"],\n",
    "    pet: 'dog'\n",
    "}\n",
    "\n",
    "let student2: CTStudent = {\n",
    "    id: '6KGS%54GmlY76',\n",
    "    name: 'Jenny Hawthorne',\n",
    "    age: 28,\n",
    "    isTired: false,\n",
    "    projectsCompleted:[\"HTML Portfolio\"],\n",
    "}\n",
    "\n",
    "let student3: CTStudent = {\n",
    "    id: '6KGS%54GmlY76',\n",
    "    name: 'Neo',\n",
    "    age: 57,\n",
    "    isTired: true,\n",
    "    projectsCompleted:[\"Matrix\",\"Biological Interface Program\"],\n",
    "    pet:'cat'\n",
    "}"
   ]
  },
  {
   "cell_type": "markdown",
   "id": "4f55579f",
   "metadata": {},
   "source": [
    "#### Question #2"
   ]
  },
  {
   "cell_type": "markdown",
   "id": "3b36ab99",
   "metadata": {},
   "source": [
    "Write a function that will accept a an object of type `Fruit`, the object of type Fruit could also be `null`.  If their is a Fruit print the color of the fruit, otherwise print `You ate my fruit already` be sure to annoate the return type of the function"
   ]
  },
  {
   "cell_type": "code",
   "execution_count": null,
   "id": "d0723c22",
   "metadata": {},
   "outputs": [],
   "source": [
    "//Given\n",
    "type Fruit={\n",
    "    color:string,\n",
    "    shape:string\n",
    "}\n",
    "\n",
    "let apple:Fruit={color:\"red\", shape:\"sphere\"}\n",
    "let eaten:null=null\n",
    "\n",
    "//Answer"
   ]
  },
  {
   "cell_type": "markdown",
   "id": "c779e6ce",
   "metadata": {},
   "source": [
    "#### Question #3"
   ]
  },
  {
   "cell_type": "markdown",
   "id": "754ad305",
   "metadata": {},
   "source": [
    "Create a Union Type named `Ebook` for `Book` and `DigitalBook` and create one instance of the new union type"
   ]
  },
  {
   "cell_type": "code",
   "execution_count": null,
   "id": "a2fe8468",
   "metadata": {},
   "outputs": [],
   "source": [
    "//Given \n",
    "type Book={\n",
    "    isbn:string,\n",
    "    title:string,\n",
    "    author:string\n",
    "}\n",
    "\n",
    "type DigitalBook={\n",
    "    fileType:string,\n",
    "}\n",
    "\n",
    "//Answer\n"
   ]
  },
  {
   "cell_type": "markdown",
   "id": "ff5b6cd0",
   "metadata": {},
   "source": [
    "#### Question #4"
   ]
  },
  {
   "cell_type": "markdown",
   "id": "2d47d040",
   "metadata": {},
   "source": [
    "Create a Type to represent a `ShopItem` that will fit the following rules. You may need to create additional structures\n",
    "\n",
    "- All ShopItems have an numeric id that can not be edited \n",
    "- All ShopItems have a price\n",
    "- All ShopItems have a description\n",
    "- Some ShopItems have a color\n",
    "- All ShopItems have a Category represented with an enum \n",
    "    - Possible Categories are `Shirts` `Shoes` `Pants` `Hats`\n",
    "- All ShopItems have a list of keywords used to help search for the ShopItem \n",
    "    - For Example A Ironman Tshirt may have keywords = [\"Marvel\", \"Endgame\", \"Ironman\",\"Character Tees\", \"Tony Stark\"]\n",
    "\n",
    "After Creating the `ShopItem` type create 3 items using this type"
   ]
  },
  {
   "cell_type": "code",
   "execution_count": null,
   "id": "157b9a0d",
   "metadata": {
    "scrolled": false
   },
   "outputs": [],
   "source": [
    "\n",
    "\n",
    "\n",
    "\n",
    "\n",
    "\n",
    "\n",
    "\n",
    "\n",
    "\n",
    "\n",
    "\n",
    "\n",
    "\n",
    "\n",
    "\n",
    "\n",
    "\n",
    "\n",
    "\n",
    "\n"
   ]
  }
 ],
 "metadata": {
  "kernelspec": {
   "display_name": "TypeScript",
   "language": "typescript",
   "name": "tslab"
  },
  "language_info": {
   "codemirror_mode": {
    "mode": "typescript",
    "name": "javascript",
    "typescript": true
   },
   "file_extension": ".ts",
   "mimetype": "text/typescript",
   "name": "typescript",
   "version": "3.7.2"
  }
 },
 "nbformat": 4,
 "nbformat_minor": 5
}
